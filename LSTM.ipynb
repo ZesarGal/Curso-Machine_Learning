{
  "cells": [
    {
      "cell_type": "markdown",
      "metadata": {
        "id": "q6Sl5eTGa1PC"
      },
      "source": [
        "## PREDICTOR THE STOCK PRICES OF A COMPANY, USING THE LONG SHORT-TERM MEMORY (LSTM) MODEL."
      ]
    },
    {
      "cell_type": "markdown",
      "metadata": {
        "id": "ab5xuySla1PJ"
      },
      "source": [
        "Importe las bibliotecas necesarias como NumPy, pandas, yfinance y matplotlib."
      ]
    },
    {
      "cell_type": "code",
      "execution_count": null,
      "metadata": {
        "id": "VOeCF6Ska1PK"
      },
      "outputs": [],
      "source": [
        "import numpy as np\n",
        "import matplotlib.pyplot as plt\n",
        "import pandas_datareader as web\n",
        "import datetime as dt\n",
        "import yfinance as yf\n",
        "import pandas as pd\n",
        "\n",
        "from sklearn.preprocessing import MinMaxScaler\n",
        "from tensorflow.keras.models import Sequential\n",
        "from tensorflow.keras.layers import Dense , Dropout, LSTM"
      ]
    },
    {
      "cell_type": "markdown",
      "metadata": {
        "id": "hiuhRc13a1PO"
      },
      "source": [
        "### RECOPILANDO INFORMACIÓN\n",
        " Establezca las fechas de inicio y finalización para recuperar los datos bursátiles. Después descargue los datos de acciones para la empresa y el rango de fechas especificados usando `yfinance.download()`."
      ]
    },
    {
      "cell_type": "code",
      "execution_count": null,
      "metadata": {
        "id": "8lbGQF7Na1PP",
        "outputId": "f7cfb2ea-a9f6-4805-decd-f4b2d7822bbf"
      },
      "outputs": [
        {
          "name": "stdout",
          "output_type": "stream",
          "text": [
            "[*********************100%%**********************]  1 of 1 completed\n"
          ]
        },
        {
          "data": {
            "text/html": [
              "<div>\n",
              "<style scoped>\n",
              "    .dataframe tbody tr th:only-of-type {\n",
              "        vertical-align: middle;\n",
              "    }\n",
              "\n",
              "    .dataframe tbody tr th {\n",
              "        vertical-align: top;\n",
              "    }\n",
              "\n",
              "    .dataframe thead th {\n",
              "        text-align: right;\n",
              "    }\n",
              "</style>\n",
              "<table border=\"1\" class=\"dataframe\">\n",
              "  <thead>\n",
              "    <tr style=\"text-align: right;\">\n",
              "      <th></th>\n",
              "      <th>Open</th>\n",
              "      <th>High</th>\n",
              "      <th>Low</th>\n",
              "      <th>Close</th>\n",
              "      <th>Adj Close</th>\n",
              "      <th>Volume</th>\n",
              "    </tr>\n",
              "    <tr>\n",
              "      <th>Date</th>\n",
              "      <th></th>\n",
              "      <th></th>\n",
              "      <th></th>\n",
              "      <th></th>\n",
              "      <th></th>\n",
              "      <th></th>\n",
              "    </tr>\n",
              "  </thead>\n",
              "  <tbody>\n",
              "    <tr>\n",
              "      <th>2020-01-02</th>\n",
              "      <td>145.289993</td>\n",
              "      <td>148.199997</td>\n",
              "      <td>145.100006</td>\n",
              "      <td>148.199997</td>\n",
              "      <td>148.199997</td>\n",
              "      <td>9502100</td>\n",
              "    </tr>\n",
              "    <tr>\n",
              "      <th>2020-01-03</th>\n",
              "      <td>146.399994</td>\n",
              "      <td>147.899994</td>\n",
              "      <td>146.050003</td>\n",
              "      <td>146.500000</td>\n",
              "      <td>146.500000</td>\n",
              "      <td>7320200</td>\n",
              "    </tr>\n",
              "    <tr>\n",
              "      <th>2020-01-06</th>\n",
              "      <td>145.539993</td>\n",
              "      <td>146.029999</td>\n",
              "      <td>144.309998</td>\n",
              "      <td>145.649994</td>\n",
              "      <td>145.649994</td>\n",
              "      <td>8262500</td>\n",
              "    </tr>\n",
              "    <tr>\n",
              "      <th>2020-01-07</th>\n",
              "      <td>145.990005</td>\n",
              "      <td>146.869995</td>\n",
              "      <td>145.419998</td>\n",
              "      <td>145.699997</td>\n",
              "      <td>145.699997</td>\n",
              "      <td>6906500</td>\n",
              "    </tr>\n",
              "    <tr>\n",
              "      <th>2020-01-08</th>\n",
              "      <td>145.490005</td>\n",
              "      <td>146.130005</td>\n",
              "      <td>144.820007</td>\n",
              "      <td>145.399994</td>\n",
              "      <td>145.399994</td>\n",
              "      <td>6984200</td>\n",
              "    </tr>\n",
              "    <tr>\n",
              "      <th>...</th>\n",
              "      <td>...</td>\n",
              "      <td>...</td>\n",
              "      <td>...</td>\n",
              "      <td>...</td>\n",
              "      <td>...</td>\n",
              "      <td>...</td>\n",
              "    </tr>\n",
              "    <tr>\n",
              "      <th>2022-12-23</th>\n",
              "      <td>86.059998</td>\n",
              "      <td>88.070000</td>\n",
              "      <td>85.769997</td>\n",
              "      <td>88.010002</td>\n",
              "      <td>88.010002</td>\n",
              "      <td>11171600</td>\n",
              "    </tr>\n",
              "    <tr>\n",
              "      <th>2022-12-27</th>\n",
              "      <td>87.419998</td>\n",
              "      <td>87.940002</td>\n",
              "      <td>85.959999</td>\n",
              "      <td>86.370003</td>\n",
              "      <td>86.370003</td>\n",
              "      <td>11561400</td>\n",
              "    </tr>\n",
              "    <tr>\n",
              "      <th>2022-12-28</th>\n",
              "      <td>86.080002</td>\n",
              "      <td>86.690002</td>\n",
              "      <td>84.070000</td>\n",
              "      <td>84.169998</td>\n",
              "      <td>84.169998</td>\n",
              "      <td>12399500</td>\n",
              "    </tr>\n",
              "    <tr>\n",
              "      <th>2022-12-29</th>\n",
              "      <td>85.250000</td>\n",
              "      <td>88.239998</td>\n",
              "      <td>84.970001</td>\n",
              "      <td>87.180000</td>\n",
              "      <td>87.180000</td>\n",
              "      <td>13045100</td>\n",
              "    </tr>\n",
              "    <tr>\n",
              "      <th>2022-12-30</th>\n",
              "      <td>85.730003</td>\n",
              "      <td>87.120003</td>\n",
              "      <td>85.230003</td>\n",
              "      <td>86.879997</td>\n",
              "      <td>86.879997</td>\n",
              "      <td>23231000</td>\n",
              "    </tr>\n",
              "  </tbody>\n",
              "</table>\n",
              "<p>756 rows × 6 columns</p>\n",
              "</div>"
            ],
            "text/plain": [
              "                  Open        High         Low       Close   Adj Close  \\\n",
              "Date                                                                     \n",
              "2020-01-02  145.289993  148.199997  145.100006  148.199997  148.199997   \n",
              "2020-01-03  146.399994  147.899994  146.050003  146.500000  146.500000   \n",
              "2020-01-06  145.539993  146.029999  144.309998  145.649994  145.649994   \n",
              "2020-01-07  145.990005  146.869995  145.419998  145.699997  145.699997   \n",
              "2020-01-08  145.490005  146.130005  144.820007  145.399994  145.399994   \n",
              "...                ...         ...         ...         ...         ...   \n",
              "2022-12-23   86.059998   88.070000   85.769997   88.010002   88.010002   \n",
              "2022-12-27   87.419998   87.940002   85.959999   86.370003   86.370003   \n",
              "2022-12-28   86.080002   86.690002   84.070000   84.169998   84.169998   \n",
              "2022-12-29   85.250000   88.239998   84.970001   87.180000   87.180000   \n",
              "2022-12-30   85.730003   87.120003   85.230003   86.879997   86.879997   \n",
              "\n",
              "              Volume  \n",
              "Date                  \n",
              "2020-01-02   9502100  \n",
              "2020-01-03   7320200  \n",
              "2020-01-06   8262500  \n",
              "2020-01-07   6906500  \n",
              "2020-01-08   6984200  \n",
              "...              ...  \n",
              "2022-12-23  11171600  \n",
              "2022-12-27  11561400  \n",
              "2022-12-28  12399500  \n",
              "2022-12-29  13045100  \n",
              "2022-12-30  23231000  \n",
              "\n",
              "[756 rows x 6 columns]"
            ]
          },
          "execution_count": 11,
          "metadata": {},
          "output_type": "execute_result"
        }
      ],
      "source": [
        "ori_star= dt.datetime(2020,1,1)\n",
        "company=\"DIS\"\n",
        "ori_end =dt.datetime(2023,1,1)\n",
        "data = yf.download(company,start=ori_star,end=ori_end)\n",
        "data"
      ]
    },
    {
      "cell_type": "markdown",
      "metadata": {
        "id": "EuMdA5T1a1PR"
      },
      "source": [
        "### PREPARANDO DATOS\n",
        "Iniciamos con un escalamiento de datos entre 0 y 1 para normalizar los precios de cierre, además se elige el número de días utilizados para predecir el siguiente precio"
      ]
    },
    {
      "cell_type": "code",
      "execution_count": null,
      "metadata": {
        "id": "H1uqv4Nea1PS"
      },
      "outputs": [],
      "source": [
        "scaler = MinMaxScaler(feature_range=(0,1))\n",
        "scaled_data = scaler.fit_transform(data[\"Close\"].values.reshape(-1,1))  #Seleccionamos los valores del precio de cierre.\n",
        "\n",
        "prediction_days =  60  # El número de dias que queremos ocupar del pasado para predecir el siguiente precio de cierre."
      ]
    },
    {
      "cell_type": "markdown",
      "metadata": {
        "id": "0Ty_wBFKa1PT"
      },
      "source": [
        "Creación de conjuntos de entrenamiento `(x_train, y_train)` utilizando datos escalados"
      ]
    },
    {
      "cell_type": "code",
      "execution_count": null,
      "metadata": {
        "id": "BTWtnir6a1PT"
      },
      "outputs": [],
      "source": [
        "x_train =[]    #Creamos listas para almacenar los datos de entrenamiento\n",
        "y_train = []\n",
        "\n",
        "#Con un ciclo llenaremos las listas anteriores\n",
        "for i in range(prediction_days, len(scaled_data)):\n",
        "    x_train.append(scaled_data[i-prediction_days:i,0])\n",
        "    y_train.append(scaled_data[i,0])\n",
        "\n",
        "x_train=np.array(x_train)\n",
        "y_train=np.array(y_train)\n",
        "\n",
        "x_train = np.reshape(x_train, (x_train.shape[0],x_train.shape[1],1)) # Redimensionamiento de x_train para que sea compatible con la entrada de LSTM"
      ]
    },
    {
      "cell_type": "markdown",
      "metadata": {
        "id": "UstZhKKoa1PV"
      },
      "source": [
        "## CREACION DEL MODELO\n",
        "Primero vamos a crear un red neuronal basica con `Sequential()` y crando Redes Neuronales Recurrentes, o bien las llamadas `Long-Short Term Memory(LSTM)` son una extensión de las redes neuronales recurrentes, que básicamente amplían su memoria para aprender de experiencias importantes que han pasado hace mucho tiempo. Las LSTM permiten a las RNN recordar sus entradas durante un largo período de tiempo.\n",
        "\n",
        "1. **Creación del Modelo Secuencial:**\n",
        "Se inicia creando un modelo secuencial en Keras, lo que permite construir la red neuronal capa por capa de manera secuencial.\n",
        "\n",
        "2. **Añadir Capas LSTM:**\n",
        "Se añaden tres capas LSTM, cada una con 50 unidades. La primera capa tiene la configuración `return_sequences=True`, indicando que devuelve secuencias. Esto es crucial para conectar múltiples capas LSTM.\n",
        "\n",
        "3. **Añadir Capas de Dropout:**\n",
        "Entre las capas LSTM, se insertan capas de Dropout con una tasa del 20%. Estas capas ayudan a prevenir el sobreajuste apagando aleatoriamente un 20% de las neuronas durante el entrenamiento.\n",
        "\n",
        "4. **Añadir Capa Densa de Salida:**\n",
        "Se añade una capa densa (totalmente conectada) con 1 unidad, que es la salida para la predicción del precio de cierre del siguiente día.\n",
        "\n",
        "5. **Compilación del Modelo:**\n",
        "Se compila el modelo utilizando el optimizador \"adam\" y la función de pérdida \"mean_squared_error\". Adam es un algoritmo de optimización popular para entrenar redes neuronales.\n",
        "\n",
        "6. **Entrenamiento del Modelo:**\n",
        "El modelo se entrena con los datos de entrenamiento (x_train y y_train) durante 25 épocas, utilizando un tamaño de lote de 32. Durante el entrenamiento, la red aprende a predecir los precios de cierre de acciones basándose en las secuencias temporales proporcionadas."
      ]
    },
    {
      "cell_type": "code",
      "execution_count": null,
      "metadata": {
        "id": "jfMQRVLPa1PX",
        "outputId": "da0b1631-70ce-4f06-d8fc-b74fa9d1c13f"
      },
      "outputs": [
        {
          "name": "stdout",
          "output_type": "stream",
          "text": [
            "Epoch 1/25\n",
            "22/22 [==============================] - 15s 87ms/step - loss: 0.0586\n",
            "Epoch 2/25\n",
            "22/22 [==============================] - 2s 96ms/step - loss: 0.0110\n",
            "Epoch 3/25\n",
            "22/22 [==============================] - 2s 86ms/step - loss: 0.0073\n",
            "Epoch 4/25\n",
            "22/22 [==============================] - 2s 96ms/step - loss: 0.0078\n",
            "Epoch 5/25\n",
            "22/22 [==============================] - 2s 82ms/step - loss: 0.0066\n",
            "Epoch 6/25\n",
            "22/22 [==============================] - 2s 90ms/step - loss: 0.0065\n",
            "Epoch 7/25\n",
            "22/22 [==============================] - 2s 84ms/step - loss: 0.0072\n",
            "Epoch 8/25\n",
            "22/22 [==============================] - 2s 87ms/step - loss: 0.0057\n",
            "Epoch 9/25\n",
            "22/22 [==============================] - 2s 79ms/step - loss: 0.0060\n",
            "Epoch 10/25\n",
            "22/22 [==============================] - 2s 80ms/step - loss: 0.0057\n",
            "Epoch 11/25\n",
            "22/22 [==============================] - 2s 82ms/step - loss: 0.0055\n",
            "Epoch 12/25\n",
            "22/22 [==============================] - 2s 83ms/step - loss: 0.0064\n",
            "Epoch 13/25\n",
            "22/22 [==============================] - 2s 79ms/step - loss: 0.0058\n",
            "Epoch 14/25\n",
            "22/22 [==============================] - 2s 82ms/step - loss: 0.0057\n",
            "Epoch 15/25\n",
            "22/22 [==============================] - 2s 78ms/step - loss: 0.0056\n",
            "Epoch 16/25\n",
            "22/22 [==============================] - 2s 80ms/step - loss: 0.0067\n",
            "Epoch 17/25\n",
            "22/22 [==============================] - 2s 79ms/step - loss: 0.0052\n",
            "Epoch 18/25\n",
            "22/22 [==============================] - 2s 78ms/step - loss: 0.0047\n",
            "Epoch 19/25\n",
            "22/22 [==============================] - 2s 85ms/step - loss: 0.0054\n",
            "Epoch 20/25\n",
            "22/22 [==============================] - 2s 98ms/step - loss: 0.0051\n",
            "Epoch 21/25\n",
            "22/22 [==============================] - 2s 91ms/step - loss: 0.0047\n",
            "Epoch 22/25\n",
            "22/22 [==============================] - 2s 75ms/step - loss: 0.0045\n",
            "Epoch 23/25\n",
            "22/22 [==============================] - 2s 72ms/step - loss: 0.0045\n",
            "Epoch 24/25\n",
            "22/22 [==============================] - 1s 67ms/step - loss: 0.0050\n",
            "Epoch 25/25\n",
            "22/22 [==============================] - 1s 65ms/step - loss: 0.0053\n"
          ]
        },
        {
          "data": {
            "text/plain": [
              "<keras.src.callbacks.History at 0x26be5ee1f90>"
            ]
          },
          "execution_count": 5,
          "metadata": {},
          "output_type": "execute_result"
        }
      ],
      "source": [
        "# Creación de un modelo secuencial\n",
        "model = Sequential()\n",
        "\n",
        "# Agrega una capa LSTM con 50 unidades, devolviendo secuencias y especificando la forma de entrada\n",
        "model.add(LSTM(units=50,return_sequences=True,input_shape=(x_train.shape[1],1)))\n",
        "\n",
        "# Agrega una capa de Dropout para regularización\n",
        "model.add(Dropout(0.2))\n",
        "\n",
        "# Agrega otra capa LSTM con 50 unidades y devolviendo secuencias\n",
        "model.add(LSTM(units=50,return_sequences=True))\n",
        "model.add(Dropout(0.2))\n",
        "model.add(LSTM(units=50))\n",
        "model.add(Dropout(0.2))\n",
        "\n",
        "# Agrega una capa densa (totalmente conectada) con 1 unidad, que es la salida para la predicción del precio de cierre del siguiente día\n",
        "model.add(Dense(units=1)) #Esta es la predicción del precio de cierre del siguiente día.\n",
        "\n",
        "# Compilación del modelo con el optimizador \"adam\" y la función de pérdida \"mean_squared_error\"\n",
        "model.compile(optimizer=\"adam\",loss=\"mean_squared_error\") # Compilación del modelo\n",
        "\n",
        "# Entrenamiento del modelo con los datos de entrenamiento (x_train, y_train)\n",
        "model.fit(x_train,y_train,epochs=25,batch_size=32)"
      ]
    },
    {
      "cell_type": "markdown",
      "metadata": {
        "id": "41WWhgrFa1PY"
      },
      "source": [
        "## PROBANDO LA VERICIDAD DEL MODELO CON DATOS EXISTENTES\n",
        "Es decir, datemos al modelo datos pasados antes de los que ya sabemos que existen y asi veremos que tan  bueno es. Asi pues procedemos a la descarga de datos de prueba para evaluar el modelo en un período posterior"
      ]
    },
    {
      "cell_type": "code",
      "execution_count": null,
      "metadata": {
        "id": "kvIxrILva1PZ",
        "outputId": "8d5e8e8c-6a43-4d5d-dcc4-ec84409ffa62"
      },
      "outputs": [
        {
          "name": "stdout",
          "output_type": "stream",
          "text": [
            "[*********************100%%**********************]  1 of 1 completed\n"
          ]
        },
        {
          "data": {
            "text/html": [
              "<div>\n",
              "<style scoped>\n",
              "    .dataframe tbody tr th:only-of-type {\n",
              "        vertical-align: middle;\n",
              "    }\n",
              "\n",
              "    .dataframe tbody tr th {\n",
              "        vertical-align: top;\n",
              "    }\n",
              "\n",
              "    .dataframe thead th {\n",
              "        text-align: right;\n",
              "    }\n",
              "</style>\n",
              "<table border=\"1\" class=\"dataframe\">\n",
              "  <thead>\n",
              "    <tr style=\"text-align: right;\">\n",
              "      <th></th>\n",
              "      <th>Open</th>\n",
              "      <th>High</th>\n",
              "      <th>Low</th>\n",
              "      <th>Close</th>\n",
              "      <th>Adj Close</th>\n",
              "      <th>Volume</th>\n",
              "    </tr>\n",
              "    <tr>\n",
              "      <th>Date</th>\n",
              "      <th></th>\n",
              "      <th></th>\n",
              "      <th></th>\n",
              "      <th></th>\n",
              "      <th></th>\n",
              "      <th></th>\n",
              "    </tr>\n",
              "  </thead>\n",
              "  <tbody>\n",
              "    <tr>\n",
              "      <th>2023-01-03</th>\n",
              "      <td>88.980003</td>\n",
              "      <td>89.970001</td>\n",
              "      <td>87.830002</td>\n",
              "      <td>88.970001</td>\n",
              "      <td>88.970001</td>\n",
              "      <td>14997100</td>\n",
              "    </tr>\n",
              "    <tr>\n",
              "      <th>2023-01-04</th>\n",
              "      <td>90.000000</td>\n",
              "      <td>92.750000</td>\n",
              "      <td>89.360001</td>\n",
              "      <td>91.980003</td>\n",
              "      <td>91.980003</td>\n",
              "      <td>14957200</td>\n",
              "    </tr>\n",
              "    <tr>\n",
              "      <th>2023-01-05</th>\n",
              "      <td>91.660004</td>\n",
              "      <td>92.480003</td>\n",
              "      <td>90.510002</td>\n",
              "      <td>91.919998</td>\n",
              "      <td>91.919998</td>\n",
              "      <td>11622600</td>\n",
              "    </tr>\n",
              "    <tr>\n",
              "      <th>2023-01-06</th>\n",
              "      <td>92.660004</td>\n",
              "      <td>94.690002</td>\n",
              "      <td>91.320000</td>\n",
              "      <td>93.919998</td>\n",
              "      <td>93.919998</td>\n",
              "      <td>9828100</td>\n",
              "    </tr>\n",
              "    <tr>\n",
              "      <th>2023-01-09</th>\n",
              "      <td>94.430000</td>\n",
              "      <td>95.699997</td>\n",
              "      <td>93.449997</td>\n",
              "      <td>94.769997</td>\n",
              "      <td>94.769997</td>\n",
              "      <td>11675800</td>\n",
              "    </tr>\n",
              "    <tr>\n",
              "      <th>...</th>\n",
              "      <td>...</td>\n",
              "      <td>...</td>\n",
              "      <td>...</td>\n",
              "      <td>...</td>\n",
              "      <td>...</td>\n",
              "      <td>...</td>\n",
              "    </tr>\n",
              "    <tr>\n",
              "      <th>2023-11-17</th>\n",
              "      <td>94.750000</td>\n",
              "      <td>95.379997</td>\n",
              "      <td>93.919998</td>\n",
              "      <td>94.150002</td>\n",
              "      <td>94.150002</td>\n",
              "      <td>12189300</td>\n",
              "    </tr>\n",
              "    <tr>\n",
              "      <th>2023-11-20</th>\n",
              "      <td>93.980003</td>\n",
              "      <td>95.589996</td>\n",
              "      <td>93.870003</td>\n",
              "      <td>95.029999</td>\n",
              "      <td>95.029999</td>\n",
              "      <td>14105300</td>\n",
              "    </tr>\n",
              "    <tr>\n",
              "      <th>2023-11-21</th>\n",
              "      <td>94.730003</td>\n",
              "      <td>94.959999</td>\n",
              "      <td>93.959999</td>\n",
              "      <td>94.449997</td>\n",
              "      <td>94.449997</td>\n",
              "      <td>7654800</td>\n",
              "    </tr>\n",
              "    <tr>\n",
              "      <th>2023-11-22</th>\n",
              "      <td>94.910004</td>\n",
              "      <td>95.709999</td>\n",
              "      <td>94.760002</td>\n",
              "      <td>95.070000</td>\n",
              "      <td>95.070000</td>\n",
              "      <td>7328200</td>\n",
              "    </tr>\n",
              "    <tr>\n",
              "      <th>2023-11-24</th>\n",
              "      <td>94.900002</td>\n",
              "      <td>96.510002</td>\n",
              "      <td>94.900002</td>\n",
              "      <td>96.059998</td>\n",
              "      <td>96.059998</td>\n",
              "      <td>5440500</td>\n",
              "    </tr>\n",
              "  </tbody>\n",
              "</table>\n",
              "<p>226 rows × 6 columns</p>\n",
              "</div>"
            ],
            "text/plain": [
              "                 Open       High        Low      Close  Adj Close    Volume\n",
              "Date                                                                       \n",
              "2023-01-03  88.980003  89.970001  87.830002  88.970001  88.970001  14997100\n",
              "2023-01-04  90.000000  92.750000  89.360001  91.980003  91.980003  14957200\n",
              "2023-01-05  91.660004  92.480003  90.510002  91.919998  91.919998  11622600\n",
              "2023-01-06  92.660004  94.690002  91.320000  93.919998  93.919998   9828100\n",
              "2023-01-09  94.430000  95.699997  93.449997  94.769997  94.769997  11675800\n",
              "...               ...        ...        ...        ...        ...       ...\n",
              "2023-11-17  94.750000  95.379997  93.919998  94.150002  94.150002  12189300\n",
              "2023-11-20  93.980003  95.589996  93.870003  95.029999  95.029999  14105300\n",
              "2023-11-21  94.730003  94.959999  93.959999  94.449997  94.449997   7654800\n",
              "2023-11-22  94.910004  95.709999  94.760002  95.070000  95.070000   7328200\n",
              "2023-11-24  94.900002  96.510002  94.900002  96.059998  96.059998   5440500\n",
              "\n",
              "[226 rows x 6 columns]"
            ]
          },
          "execution_count": 12,
          "metadata": {},
          "output_type": "execute_result"
        }
      ],
      "source": [
        "test_start = dt.datetime(2023,1,1)\n",
        "test_end = dt.datetime.now()\n",
        "test_data = yf.download(company,start=test_start,end=test_end)\n",
        "test_data\n"
      ]
    },
    {
      "cell_type": "markdown",
      "metadata": {
        "id": "R-JlMkPDa1Pa"
      },
      "source": [
        "Preparación de datos de prueba para la predicción"
      ]
    },
    {
      "cell_type": "code",
      "execution_count": null,
      "metadata": {
        "id": "0j3Ihb9ka1Pb"
      },
      "outputs": [],
      "source": [
        "actual_prices =test_data[\"Close\"].values\n",
        "\n",
        "total_dataset = pd.concat((data[\"Close\"],test_data[\"Close\"]),axis=0)\n",
        "\n",
        "model_inputs = total_dataset[len(total_dataset)-len(test_data)-prediction_days:].values\n",
        "model_inputs = model_inputs.reshape(-1,1)\n",
        "model_inputs = scaler.transform(model_inputs)"
      ]
    },
    {
      "cell_type": "markdown",
      "metadata": {
        "id": "LSZLota6a1Pc"
      },
      "source": [
        "### INICIAMOS LAS PREDICCIONES DE LOS DATOS DE PRUEBA"
      ]
    },
    {
      "cell_type": "code",
      "execution_count": null,
      "metadata": {
        "id": "IYYxr99qa1Pd",
        "outputId": "6295a7d0-9271-4031-edd2-74be6f381465"
      },
      "outputs": [
        {
          "name": "stdout",
          "output_type": "stream",
          "text": [
            "8/8 [==============================] - 3s 24ms/step\n"
          ]
        }
      ],
      "source": [
        "# Inicializa una lista vacía para almacenar los datos de prueba\n",
        "x_test=[]\n",
        "\n",
        "# Iteramos sobre los datos de entrada del modelo (model_inputs) para construir los conjuntos de prueba\n",
        "for i in range(prediction_days,len(model_inputs)):\n",
        "    x_test.append(model_inputs[i-prediction_days:i,0])\n",
        "\n",
        "# Convierte la lista de datos de prueba a un array de NumPy\n",
        "x_test =np.array(x_test)\n",
        "\n",
        "# Redimensiona el array para que sea compatible con la entrada del modelo LSTM\n",
        "x_test = np.reshape(x_test, (x_test.shape[0], x_test.shape[1], 1))\n",
        "\n",
        "# Realización de predicciones utilizando el modelo entrenado\n",
        "predicted_prices = model.predict(x_test)\n",
        "\n",
        "# Invierte la escala de las predicciones para obtener los valores en la escala original\n",
        "predicted_prices = scaler.inverse_transform(predicted_prices)"
      ]
    },
    {
      "cell_type": "markdown",
      "metadata": {
        "id": "aJv-qO00a1Pe"
      },
      "source": [
        "### GRAFICANDO LAS PREDICCIONES"
      ]
    },
    {
      "cell_type": "code",
      "execution_count": null,
      "metadata": {
        "id": "Q5yvY8Osa1Pf",
        "outputId": "43ff9639-810d-41a0-c855-6fcc84349481"
      },
      "outputs": [
        {
          "data": {
            "image/png": "[encoded data removed]",
            "text/plain": [
              "<Figure size 640x480 with 1 Axes>"
            ]
          },
          "metadata": {},
          "output_type": "display_data"
        }
      ],
      "source": [
        "plt.plot(actual_prices , color=\"blue\",label=f\"Precio Actual de {company}\")\n",
        "plt.plot(predicted_prices , color=\"green\",label=f\"Precio Prediccion de {company}\")\n",
        "plt.title(f\"Precios de Cierre de {company}\")\n",
        "plt.xlabel(\"Tiempo\")\n",
        "plt.ylabel(f\"Precio de Cierre de {company}\")\n",
        "plt.legend()\n",
        "plt.show()"
      ]
    },
    {
      "cell_type": "markdown",
      "metadata": {
        "id": "p_KUNyMwa1Pg"
      },
      "source": [
        "### PREDICIENDO LOS DIAS SIGUIENTES"
      ]
    },
    {
      "cell_type": "code",
      "execution_count": null,
      "metadata": {
        "id": "VEJAldtQa1Ph",
        "outputId": "2458102b-99d2-4509-bbc1-d91ff4c25543"
      },
      "outputs": [
        {
          "name": "stdout",
          "output_type": "stream",
          "text": [
            "1/1 [==============================] - 0s 188ms/step\n",
            "La prediccion para el precio de cierre del dia siguiente es:  93.48973846435547  USD\n"
          ]
        }
      ],
      "source": [
        "#Selecciona los datos más recientes del modelo_inputs para realizar la predicción\n",
        "real_data = [model_inputs[len(model_inputs)+1-prediction_days:len(model_inputs+1),0]]\n",
        "\n",
        "# Convierte los datos seleccionados a un array de NumPy\n",
        "real_data = np.array(real_data)\n",
        "\n",
        "# Redimensiona el array para que sea compatible con la entrada del modelo LSTM\n",
        "real_data =np.reshape(real_data,(real_data.shape[0],real_data.shape[1],1))\n",
        "\n",
        "# Realiza la predicción utilizando el modelo entrenado\n",
        "prediction = model.predict(real_data)\n",
        "\n",
        "# Invierte la escala de la predicción para obtener el valor en la escala original\n",
        "prediction =scaler.inverse_transform(prediction)\n",
        "\n",
        "# Imprime la predicción\n",
        "print(f\"La prediccion para el precio de cierre del dia siguiente es: \", math.trunc(float(prediction)) ,\" USD\")\n"
      ]
    },
    {
      "cell_type": "code",
      "execution_count": null,
      "metadata": {
        "id": "zBmdwQdwa1Pi"
      },
      "outputs": [],
      "source": []
    }
  ],
  "metadata": {
    "kernelspec": {
      "display_name": "base",
      "language": "python",
      "name": "python3"
    },
    "language_info": {
      "codemirror_mode": {
        "name": "ipython",
        "version": 3
      },
      "file_extension": ".py",
      "mimetype": "text/x-python",
      "name": "python",
      "nbconvert_exporter": "python",
      "pygments_lexer": "ipython3",
      "version": "3.11.5"
    },
    "colab": {
      "provenance": []
    }
  },
  "nbformat": 4,
  "nbformat_minor": 0
}