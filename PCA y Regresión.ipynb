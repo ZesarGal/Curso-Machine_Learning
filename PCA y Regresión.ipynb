{
 "cells": [
  {
   "cell_type": "markdown",
   "metadata": {},
   "source": [
    "## PCA"
   ]
  },
  {
   "cell_type": "code",
   "execution_count": 1,
   "metadata": {},
   "outputs": [
    {
     "name": "stdout",
     "output_type": "stream",
     "text": [
      "Requirement already satisfied: bioinfokit in /opt/anaconda3/lib/python3.9/site-packages (2.1.0)\n",
      "Requirement already satisfied: numpy in /opt/anaconda3/lib/python3.9/site-packages (from bioinfokit) (1.21.5)\n",
      "Requirement already satisfied: matplotlib in /opt/anaconda3/lib/python3.9/site-packages (from bioinfokit) (3.5.2)\n",
      "Requirement already satisfied: scikit-learn in /opt/anaconda3/lib/python3.9/site-packages (from bioinfokit) (1.0.2)\n",
      "Requirement already satisfied: matplotlib-venn in /opt/anaconda3/lib/python3.9/site-packages (from bioinfokit) (0.11.9)\n",
      "Requirement already satisfied: pandas in /opt/anaconda3/lib/python3.9/site-packages (from bioinfokit) (1.4.4)\n",
      "Requirement already satisfied: seaborn in /opt/anaconda3/lib/python3.9/site-packages (from bioinfokit) (0.11.2)\n",
      "Requirement already satisfied: tabulate in /opt/anaconda3/lib/python3.9/site-packages (from bioinfokit) (0.8.10)\n",
      "Requirement already satisfied: textwrap3 in /opt/anaconda3/lib/python3.9/site-packages (from bioinfokit) (0.9.2)\n",
      "Requirement already satisfied: adjustText in /opt/anaconda3/lib/python3.9/site-packages (from bioinfokit) (0.8)\n",
      "Requirement already satisfied: statsmodels in /opt/anaconda3/lib/python3.9/site-packages (from bioinfokit) (0.13.2)\n",
      "Requirement already satisfied: scipy in /opt/anaconda3/lib/python3.9/site-packages (from bioinfokit) (1.9.1)\n",
      "Requirement already satisfied: packaging>=20.0 in /opt/anaconda3/lib/python3.9/site-packages (from matplotlib->bioinfokit) (21.3)\n",
      "Requirement already satisfied: pillow>=6.2.0 in /opt/anaconda3/lib/python3.9/site-packages (from matplotlib->bioinfokit) (9.2.0)\n",
      "Requirement already satisfied: fonttools>=4.22.0 in /opt/anaconda3/lib/python3.9/site-packages (from matplotlib->bioinfokit) (4.25.0)\n",
      "Requirement already satisfied: cycler>=0.10 in /opt/anaconda3/lib/python3.9/site-packages (from matplotlib->bioinfokit) (0.11.0)\n",
      "Requirement already satisfied: kiwisolver>=1.0.1 in /opt/anaconda3/lib/python3.9/site-packages (from matplotlib->bioinfokit) (1.4.2)\n",
      "Requirement already satisfied: pyparsing>=2.2.1 in /opt/anaconda3/lib/python3.9/site-packages (from matplotlib->bioinfokit) (3.0.9)\n",
      "Requirement already satisfied: python-dateutil>=2.7 in /opt/anaconda3/lib/python3.9/site-packages (from matplotlib->bioinfokit) (2.8.2)\n",
      "Requirement already satisfied: pytz>=2020.1 in /opt/anaconda3/lib/python3.9/site-packages (from pandas->bioinfokit) (2022.7.1)\n",
      "Requirement already satisfied: joblib>=0.11 in /opt/anaconda3/lib/python3.9/site-packages (from scikit-learn->bioinfokit) (1.1.0)\n",
      "Requirement already satisfied: threadpoolctl>=2.0.0 in /opt/anaconda3/lib/python3.9/site-packages (from scikit-learn->bioinfokit) (2.2.0)\n",
      "Requirement already satisfied: patsy>=0.5.2 in /opt/anaconda3/lib/python3.9/site-packages (from statsmodels->bioinfokit) (0.5.2)\n",
      "Requirement already satisfied: six in /opt/anaconda3/lib/python3.9/site-packages (from patsy>=0.5.2->statsmodels->bioinfokit) (1.16.0)\n"
     ]
    }
   ],
   "source": [
    "!pip install bioinfokit"
   ]
  },
  {
   "cell_type": "code",
   "execution_count": 2,
   "metadata": {},
   "outputs": [
    {
     "data": {
      "text/html": [
       "<div>\n",
       "<style scoped>\n",
       "    .dataframe tbody tr th:only-of-type {\n",
       "        vertical-align: middle;\n",
       "    }\n",
       "\n",
       "    .dataframe tbody tr th {\n",
       "        vertical-align: top;\n",
       "    }\n",
       "\n",
       "    .dataframe thead th {\n",
       "        text-align: right;\n",
       "    }\n",
       "</style>\n",
       "<table border=\"1\" class=\"dataframe\">\n",
       "  <thead>\n",
       "    <tr style=\"text-align: right;\">\n",
       "      <th></th>\n",
       "      <th>A</th>\n",
       "      <th>B</th>\n",
       "      <th>C</th>\n",
       "      <th>D</th>\n",
       "      <th>E</th>\n",
       "      <th>F</th>\n",
       "    </tr>\n",
       "  </thead>\n",
       "  <tbody>\n",
       "    <tr>\n",
       "      <th>0</th>\n",
       "      <td>4.50570</td>\n",
       "      <td>3.260360</td>\n",
       "      <td>-1.249400</td>\n",
       "      <td>8.898070</td>\n",
       "      <td>8.059550</td>\n",
       "      <td>-0.842803</td>\n",
       "    </tr>\n",
       "    <tr>\n",
       "      <th>1</th>\n",
       "      <td>3.50856</td>\n",
       "      <td>1.660790</td>\n",
       "      <td>-1.856680</td>\n",
       "      <td>-2.573360</td>\n",
       "      <td>-1.373700</td>\n",
       "      <td>1.196000</td>\n",
       "    </tr>\n",
       "    <tr>\n",
       "      <th>2</th>\n",
       "      <td>4.44701</td>\n",
       "      <td>3.411940</td>\n",
       "      <td>-1.040870</td>\n",
       "      <td>10.271195</td>\n",
       "      <td>10.517256</td>\n",
       "      <td>0.272272</td>\n",
       "    </tr>\n",
       "    <tr>\n",
       "      <th>3</th>\n",
       "      <td>2.16003</td>\n",
       "      <td>3.146520</td>\n",
       "      <td>0.982809</td>\n",
       "      <td>9.024300</td>\n",
       "      <td>6.058320</td>\n",
       "      <td>-2.967420</td>\n",
       "    </tr>\n",
       "    <tr>\n",
       "      <th>4</th>\n",
       "      <td>2.35701</td>\n",
       "      <td>0.452589</td>\n",
       "      <td>-1.910680</td>\n",
       "      <td>12.984239</td>\n",
       "      <td>10.019605</td>\n",
       "      <td>-2.939020</td>\n",
       "    </tr>\n",
       "  </tbody>\n",
       "</table>\n",
       "</div>"
      ],
      "text/plain": [
       "         A         B         C          D          E         F\n",
       "0  4.50570  3.260360 -1.249400   8.898070   8.059550 -0.842803\n",
       "1  3.50856  1.660790 -1.856680  -2.573360  -1.373700  1.196000\n",
       "2  4.44701  3.411940 -1.040870  10.271195  10.517256  0.272272\n",
       "3  2.16003  3.146520  0.982809   9.024300   6.058320 -2.967420\n",
       "4  2.35701  0.452589 -1.910680  12.984239  10.019605 -2.939020"
      ]
     },
     "execution_count": 2,
     "metadata": {},
     "output_type": "execute_result"
    }
   ],
   "source": [
    "from sklearn.decomposition import PCA \n",
    "from sklearn.preprocessing import StandardScaler \n",
    "from bioinfokit.analys import get_data\n",
    "import numpy as np\n",
    "import pandas as pd\n",
    "\n",
    "\n",
    "df = get_data('gexp').data\n",
    "df.head()"
   ]
  },
  {
   "cell_type": "code",
   "execution_count": 3,
   "metadata": {},
   "outputs": [
    {
     "data": {
      "text/html": [
       "<div>\n",
       "<style scoped>\n",
       "    .dataframe tbody tr th:only-of-type {\n",
       "        vertical-align: middle;\n",
       "    }\n",
       "\n",
       "    .dataframe tbody tr th {\n",
       "        vertical-align: top;\n",
       "    }\n",
       "\n",
       "    .dataframe thead th {\n",
       "        text-align: right;\n",
       "    }\n",
       "</style>\n",
       "<table border=\"1\" class=\"dataframe\">\n",
       "  <thead>\n",
       "    <tr style=\"text-align: right;\">\n",
       "      <th></th>\n",
       "      <th>A</th>\n",
       "      <th>B</th>\n",
       "      <th>C</th>\n",
       "      <th>D</th>\n",
       "      <th>E</th>\n",
       "      <th>F</th>\n",
       "    </tr>\n",
       "  </thead>\n",
       "  <tbody>\n",
       "    <tr>\n",
       "      <th>0</th>\n",
       "      <td>0.619654</td>\n",
       "      <td>0.448280</td>\n",
       "      <td>-0.240867</td>\n",
       "      <td>2.457058</td>\n",
       "      <td>2.304732</td>\n",
       "      <td>-0.331489</td>\n",
       "    </tr>\n",
       "    <tr>\n",
       "      <th>1</th>\n",
       "      <td>0.342286</td>\n",
       "      <td>-0.041499</td>\n",
       "      <td>-0.428652</td>\n",
       "      <td>-1.214732</td>\n",
       "      <td>-0.877151</td>\n",
       "      <td>0.474930</td>\n",
       "    </tr>\n",
       "    <tr>\n",
       "      <th>2</th>\n",
       "      <td>0.603329</td>\n",
       "      <td>0.494693</td>\n",
       "      <td>-0.176385</td>\n",
       "      <td>2.896569</td>\n",
       "      <td>3.133729</td>\n",
       "      <td>0.109563</td>\n",
       "    </tr>\n",
       "    <tr>\n",
       "      <th>3</th>\n",
       "      <td>-0.032825</td>\n",
       "      <td>0.413423</td>\n",
       "      <td>0.449383</td>\n",
       "      <td>2.497462</td>\n",
       "      <td>1.629707</td>\n",
       "      <td>-1.171850</td>\n",
       "    </tr>\n",
       "    <tr>\n",
       "      <th>4</th>\n",
       "      <td>0.021968</td>\n",
       "      <td>-0.411444</td>\n",
       "      <td>-0.445350</td>\n",
       "      <td>3.764964</td>\n",
       "      <td>2.965869</td>\n",
       "      <td>-1.160617</td>\n",
       "    </tr>\n",
       "  </tbody>\n",
       "</table>\n",
       "</div>"
      ],
      "text/plain": [
       "          A         B         C         D         E         F\n",
       "0  0.619654  0.448280 -0.240867  2.457058  2.304732 -0.331489\n",
       "1  0.342286 -0.041499 -0.428652 -1.214732 -0.877151  0.474930\n",
       "2  0.603329  0.494693 -0.176385  2.896569  3.133729  0.109563\n",
       "3 -0.032825  0.413423  0.449383  2.497462  1.629707 -1.171850\n",
       "4  0.021968 -0.411444 -0.445350  3.764964  2.965869 -1.160617"
      ]
     },
     "execution_count": 3,
     "metadata": {},
     "output_type": "execute_result"
    }
   ],
   "source": [
    "df_st =  StandardScaler().fit_transform(df)  \n",
    "pd.DataFrame(df_st, columns=df.columns).head()"
   ]
  },
  {
   "cell_type": "code",
   "execution_count": 4,
   "metadata": {},
   "outputs": [
    {
     "data": {
      "text/plain": [
       "array([0.2978742 , 0.27481252, 0.23181442, 0.19291638, 0.00144353,\n",
       "       0.00113895])"
      ]
     },
     "execution_count": 4,
     "metadata": {},
     "output_type": "execute_result"
    }
   ],
   "source": [
    "pca_out = PCA().fit(df_st)\n",
    "\n",
    "\n",
    "pca_out.explained_variance_ratio_"
   ]
  },
  {
   "cell_type": "code",
   "execution_count": 5,
   "metadata": {},
   "outputs": [
    {
     "data": {
      "text/plain": [
       "array([0.2978742 , 0.57268672, 0.80450114, 0.99741752, 0.99886105,\n",
       "       1.        ])"
      ]
     },
     "execution_count": 5,
     "metadata": {},
     "output_type": "execute_result"
    }
   ],
   "source": [
    "np.cumsum(pca_out.explained_variance_ratio_)"
   ]
  },
  {
   "cell_type": "code",
   "execution_count": 6,
   "metadata": {},
   "outputs": [
    {
     "data": {
      "text/html": [
       "<div>\n",
       "<style scoped>\n",
       "    .dataframe tbody tr th:only-of-type {\n",
       "        vertical-align: middle;\n",
       "    }\n",
       "\n",
       "    .dataframe tbody tr th {\n",
       "        vertical-align: top;\n",
       "    }\n",
       "\n",
       "    .dataframe thead th {\n",
       "        text-align: right;\n",
       "    }\n",
       "</style>\n",
       "<table border=\"1\" class=\"dataframe\">\n",
       "  <thead>\n",
       "    <tr style=\"text-align: right;\">\n",
       "      <th></th>\n",
       "      <th>PC1</th>\n",
       "      <th>PC2</th>\n",
       "      <th>PC3</th>\n",
       "      <th>PC4</th>\n",
       "      <th>PC5</th>\n",
       "      <th>PC6</th>\n",
       "    </tr>\n",
       "    <tr>\n",
       "      <th>variable</th>\n",
       "      <th></th>\n",
       "      <th></th>\n",
       "      <th></th>\n",
       "      <th></th>\n",
       "      <th></th>\n",
       "      <th></th>\n",
       "    </tr>\n",
       "  </thead>\n",
       "  <tbody>\n",
       "    <tr>\n",
       "      <th>A</th>\n",
       "      <td>-0.510898</td>\n",
       "      <td>0.452234</td>\n",
       "      <td>0.227356</td>\n",
       "      <td>-0.323464</td>\n",
       "      <td>0.614881</td>\n",
       "      <td>0.008372</td>\n",
       "    </tr>\n",
       "    <tr>\n",
       "      <th>B</th>\n",
       "      <td>-0.085908</td>\n",
       "      <td>0.401197</td>\n",
       "      <td>0.708556</td>\n",
       "      <td>0.132788</td>\n",
       "      <td>-0.558448</td>\n",
       "      <td>-0.010616</td>\n",
       "    </tr>\n",
       "    <tr>\n",
       "      <th>C</th>\n",
       "      <td>0.477477</td>\n",
       "      <td>-0.100994</td>\n",
       "      <td>0.462437</td>\n",
       "      <td>0.487951</td>\n",
       "      <td>0.556605</td>\n",
       "      <td>0.007893</td>\n",
       "    </tr>\n",
       "    <tr>\n",
       "      <th>D</th>\n",
       "      <td>0.370318</td>\n",
       "      <td>0.611485</td>\n",
       "      <td>-0.308295</td>\n",
       "      <td>0.054973</td>\n",
       "      <td>-0.007642</td>\n",
       "      <td>0.625159</td>\n",
       "    </tr>\n",
       "    <tr>\n",
       "      <th>E</th>\n",
       "      <td>0.568491</td>\n",
       "      <td>0.300118</td>\n",
       "      <td>-0.011775</td>\n",
       "      <td>-0.484115</td>\n",
       "      <td>0.009382</td>\n",
       "      <td>-0.593425</td>\n",
       "    </tr>\n",
       "    <tr>\n",
       "      <th>F</th>\n",
       "      <td>0.208090</td>\n",
       "      <td>-0.400426</td>\n",
       "      <td>0.370440</td>\n",
       "      <td>-0.634234</td>\n",
       "      <td>-0.010111</td>\n",
       "      <td>0.506732</td>\n",
       "    </tr>\n",
       "  </tbody>\n",
       "</table>\n",
       "</div>"
      ],
      "text/plain": [
       "               PC1       PC2       PC3       PC4       PC5       PC6\n",
       "variable                                                            \n",
       "A        -0.510898  0.452234  0.227356 -0.323464  0.614881  0.008372\n",
       "B        -0.085908  0.401197  0.708556  0.132788 -0.558448 -0.010616\n",
       "C         0.477477 -0.100994  0.462437  0.487951  0.556605  0.007893\n",
       "D         0.370318  0.611485 -0.308295  0.054973 -0.007642  0.625159\n",
       "E         0.568491  0.300118 -0.011775 -0.484115  0.009382 -0.593425\n",
       "F         0.208090 -0.400426  0.370440 -0.634234 -0.010111  0.506732"
      ]
     },
     "execution_count": 6,
     "metadata": {},
     "output_type": "execute_result"
    }
   ],
   "source": [
    "loadings = pca_out.components_\n",
    "num_pc = pca_out.n_features_\n",
    "pc_list = [\"PC\"+str(i) for i in list(range(1, num_pc+1))]\n",
    "loadings_df = pd.DataFrame.from_dict(dict(zip(pc_list, loadings)))\n",
    "loadings_df['variable'] = df.columns.values\n",
    "loadings_df = loadings_df.set_index('variable')\n",
    "loadings_df"
   ]
  },
  {
   "cell_type": "code",
   "execution_count": 7,
   "metadata": {},
   "outputs": [
    {
     "data": {
      "image/png": "[encoded data removed]",
      "text/plain": [
       "<Figure size 640x480 with 2 Axes>"
      ]
     },
     "metadata": {},
     "output_type": "display_data"
    }
   ],
   "source": [
    "import seaborn as sns\n",
    "import matplotlib.pyplot as plt\n",
    "ax = sns.heatmap(loadings_df, annot=True, cmap='Spectral')\n",
    "plt.show()"
   ]
  },
  {
   "cell_type": "code",
   "execution_count": 8,
   "metadata": {},
   "outputs": [
    {
     "data": {
      "text/plain": [
       "array([1.78994905, 1.65136965, 1.39299071, 1.15924943, 0.0086743 ,\n",
       "       0.00684401])"
      ]
     },
     "execution_count": 8,
     "metadata": {},
     "output_type": "execute_result"
    }
   ],
   "source": [
    "pca_out.explained_variance_"
   ]
  },
  {
   "cell_type": "code",
   "execution_count": 9,
   "metadata": {},
   "outputs": [],
   "source": [
    "from bioinfokit.visuz import cluster\n",
    "cluster.screeplot(obj=[pc_list, pca_out.explained_variance_ratio_])"
   ]
  },
  {
   "cell_type": "code",
   "execution_count": 10,
   "metadata": {},
   "outputs": [],
   "source": [
    "cluster.pcaplot(x=loadings[0], y=loadings[1], labels=df.columns.values, \n",
    "    var1=round(pca_out.explained_variance_ratio_[0]*100, 2),\n",
    "    var2=round(pca_out.explained_variance_ratio_[1]*100, 2))"
   ]
  },
  {
   "cell_type": "code",
   "execution_count": 11,
   "metadata": {},
   "outputs": [
    {
     "data": {
      "image/png": "[encoded data removed]",
      "text/plain": [
       "<Figure size 640x480 with 1 Axes>"
      ]
     },
     "metadata": {},
     "output_type": "display_data"
    }
   ],
   "source": [
    "df = pd.DataFrame({'var':pca_out.explained_variance_ratio_,\n",
    "             'PC':['PC1','PC2','PC3','PC4','PC5','PC6']})\n",
    "sns.barplot(x='PC',y=\"var\", \n",
    "           data=df, color=\"c\");"
   ]
  },
  {
   "cell_type": "markdown",
   "metadata": {},
   "source": [
    "## Regresión"
   ]
  },
  {
   "cell_type": "code",
   "execution_count": 12,
   "metadata": {},
   "outputs": [],
   "source": [
    "from sklearn.datasets import make_blobs\n",
    "from sklearn.linear_model import LinearRegression\n",
    "import numpy as np\n",
    "import matplotlib.pyplot as plt"
   ]
  },
  {
   "cell_type": "code",
   "execution_count": 13,
   "metadata": {},
   "outputs": [],
   "source": [
    "num_samples_total = 150\n",
    "cluster_centers = [(3,3), (3.3, 3.3), (3.6, 3.6), (4, 4)]\n",
    "num_features = 2\n",
    "\n",
    "\n",
    "X, _ = make_blobs(n_samples = num_samples_total, centers = cluster_centers, n_features = num_features, center_box=(0, 1), cluster_std = 0.10)\n"
   ]
  },
  {
   "cell_type": "code",
   "execution_count": 14,
   "metadata": {},
   "outputs": [
    {
     "data": {
      "text/plain": [
       "(150, 2)"
      ]
     },
     "execution_count": 14,
     "metadata": {},
     "output_type": "execute_result"
    }
   ],
   "source": [
    "X.shape"
   ]
  },
  {
   "cell_type": "code",
   "execution_count": 15,
   "metadata": {},
   "outputs": [
    {
     "data": {
      "text/plain": [
       "(150, 1)"
      ]
     },
     "execution_count": 15,
     "metadata": {},
     "output_type": "execute_result"
    }
   ],
   "source": [
    "X[:,0].reshape(-1,1).shape"
   ]
  },
  {
   "cell_type": "code",
   "execution_count": 16,
   "metadata": {},
   "outputs": [],
   "source": [
    "num_samples_total = 150\n",
    "cluster_centers = [(3,3), (3.3, 3.3), (3.6, 3.6), (4, 4)]\n",
    "num_features = 2\n",
    "\n",
    "\n",
    "X, _ = make_blobs(n_samples = num_samples_total, centers = cluster_centers, n_features = num_features, center_box=(0, 1), cluster_std = 0.10)\n",
    "\n",
    "\n",
    "y = X[:,1].reshape(-1, 1)\n",
    "X = X[:,0].reshape(-1, 1)"
   ]
  },
  {
   "cell_type": "code",
   "execution_count": 17,
   "metadata": {},
   "outputs": [
    {
     "name": "stdout",
     "output_type": "stream",
     "text": [
      "y = 0.8937224860087983x + 0.36696724967693717\n"
     ]
    }
   ],
   "source": [
    "reg = LinearRegression().fit(X, y)\n",
    "print('y = {}x + {}'.format(reg.coef_[0][0], reg.intercept_[0]))"
   ]
  },
  {
   "cell_type": "code",
   "execution_count": 18,
   "metadata": {},
   "outputs": [
    {
     "data": {
      "text/plain": [
       "array([[3.95426228],\n",
       "       [3.14397493],\n",
       "       [3.46162718],\n",
       "       [3.9033673 ],\n",
       "       [3.86519157],\n",
       "       [2.95266638],\n",
       "       [3.23156502],\n",
       "       [3.87424406],\n",
       "       [3.86880433],\n",
       "       [3.35308416],\n",
       "       [3.5088034 ],\n",
       "       [3.58837368],\n",
       "       [3.94644258],\n",
       "       [3.47968403],\n",
       "       [3.63468294],\n",
       "       [3.34785853],\n",
       "       [3.74736047],\n",
       "       [4.05555208],\n",
       "       [3.67090096],\n",
       "       [3.83834751],\n",
       "       [4.14190035],\n",
       "       [3.03523123],\n",
       "       [3.10911747],\n",
       "       [3.22009885],\n",
       "       [3.08492411],\n",
       "       [3.15659839],\n",
       "       [3.97388587],\n",
       "       [3.66593554],\n",
       "       [3.00385012],\n",
       "       [3.95852688],\n",
       "       [3.56561623],\n",
       "       [3.33040643],\n",
       "       [3.4267058 ],\n",
       "       [3.43529359],\n",
       "       [3.06642605],\n",
       "       [3.0476657 ],\n",
       "       [3.77333249],\n",
       "       [3.52187179],\n",
       "       [3.78843179],\n",
       "       [3.29580222],\n",
       "       [3.33541792],\n",
       "       [3.9888527 ],\n",
       "       [3.31399304],\n",
       "       [3.47168369],\n",
       "       [3.91551395],\n",
       "       [3.16853955],\n",
       "       [3.21715954],\n",
       "       [3.99352466],\n",
       "       [3.27606733],\n",
       "       [4.02755301],\n",
       "       [3.07326233],\n",
       "       [3.04650492],\n",
       "       [4.00189083],\n",
       "       [3.32533828],\n",
       "       [3.96016702],\n",
       "       [3.9373216 ],\n",
       "       [3.6123913 ],\n",
       "       [3.93250977],\n",
       "       [3.64707512],\n",
       "       [3.01113672],\n",
       "       [3.04574417],\n",
       "       [3.66149507],\n",
       "       [2.91052935],\n",
       "       [3.6251551 ],\n",
       "       [3.19891475],\n",
       "       [3.29159174],\n",
       "       [3.54136286],\n",
       "       [3.10371168],\n",
       "       [3.43164024],\n",
       "       [3.27716584],\n",
       "       [3.38224059],\n",
       "       [3.56482324],\n",
       "       [2.95314594],\n",
       "       [3.26070514],\n",
       "       [3.56272901],\n",
       "       [3.92642224],\n",
       "       [3.0306896 ],\n",
       "       [3.98125237],\n",
       "       [3.42144699],\n",
       "       [3.60896556],\n",
       "       [4.01167427],\n",
       "       [3.28437315],\n",
       "       [3.51016022],\n",
       "       [3.33386436],\n",
       "       [3.69265225],\n",
       "       [3.32229401],\n",
       "       [2.99763588],\n",
       "       [3.63174576],\n",
       "       [3.49321199],\n",
       "       [3.07876841],\n",
       "       [4.05349769],\n",
       "       [3.32680374],\n",
       "       [3.06709916],\n",
       "       [3.93799904],\n",
       "       [3.08971969],\n",
       "       [3.60857623],\n",
       "       [3.16010673],\n",
       "       [3.55267799],\n",
       "       [3.08944211],\n",
       "       [3.67539023],\n",
       "       [3.04017669],\n",
       "       [3.41404465],\n",
       "       [3.2487075 ],\n",
       "       [3.36495771],\n",
       "       [3.94525816],\n",
       "       [3.09065801],\n",
       "       [3.81595898],\n",
       "       [3.9299583 ],\n",
       "       [3.96326227],\n",
       "       [3.03459018],\n",
       "       [3.57259581],\n",
       "       [3.99335292],\n",
       "       [3.44506467],\n",
       "       [2.95474495],\n",
       "       [3.8909928 ],\n",
       "       [3.0488128 ],\n",
       "       [3.48521561],\n",
       "       [3.62018037],\n",
       "       [3.36970783],\n",
       "       [3.3755746 ],\n",
       "       [3.03259942],\n",
       "       [4.0514351 ],\n",
       "       [2.95108536],\n",
       "       [3.18810477],\n",
       "       [3.36294875],\n",
       "       [2.96264357],\n",
       "       [3.72087555],\n",
       "       [3.54784354],\n",
       "       [3.06043185],\n",
       "       [3.75764331],\n",
       "       [2.94162431],\n",
       "       [2.98391131],\n",
       "       [3.34391871],\n",
       "       [3.5163946 ],\n",
       "       [3.62986126],\n",
       "       [3.57391898],\n",
       "       [3.96788725],\n",
       "       [2.98223173],\n",
       "       [3.10997184],\n",
       "       [3.14252158],\n",
       "       [3.90133409],\n",
       "       [3.40934354],\n",
       "       [3.53319695],\n",
       "       [3.98586928],\n",
       "       [3.50471515],\n",
       "       [3.2736411 ],\n",
       "       [2.87607304],\n",
       "       [3.57767769],\n",
       "       [3.52335009],\n",
       "       [3.11302277]])"
      ]
     },
     "execution_count": 18,
     "metadata": {},
     "output_type": "execute_result"
    }
   ],
   "source": [
    "y_pred = reg.predict(X)\n",
    "\n",
    "y_pred"
   ]
  },
  {
   "cell_type": "code",
   "execution_count": 19,
   "metadata": {},
   "outputs": [
    {
     "data": {
      "image/png": "[encoded data removed]",
      "text/plain": [
       "<Figure size 640x480 with 1 Axes>"
      ]
     },
     "metadata": {},
     "output_type": "display_data"
    }
   ],
   "source": [
    "plt.scatter(X, y, marker=\"o\", picker=True)\n",
    "plt.plot(X, y_pred, color='red')\n",
    "plt.title(f'Muestras and ajuste OLS')\n",
    "plt.xlabel('x')\n",
    "plt.ylabel('y')\n",
    "plt.show()"
   ]
  },
  {
   "cell_type": "code",
   "execution_count": null,
   "metadata": {},
   "outputs": [],
   "source": []
  }
 ],
 "metadata": {
  "kernelspec": {
   "display_name": "Python 3 (ipykernel)",
   "language": "python",
   "name": "python3"
  },
  "language_info": {
   "codemirror_mode": {
    "name": "ipython",
    "version": 3
   },
   "file_extension": ".py",
   "mimetype": "text/x-python",
   "name": "python",
   "nbconvert_exporter": "python",
   "pygments_lexer": "ipython3",
   "version": "3.9.13"
  }
 },
 "nbformat": 4,
 "nbformat_minor": 4
}
