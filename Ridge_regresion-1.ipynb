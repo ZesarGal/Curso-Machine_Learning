{
  "nbformat": 4,
  "nbformat_minor": 0,
  "metadata": {
    "colab": {
      "provenance": [],
      "collapsed_sections": []
    },
    "kernelspec": {
      "name": "python3",
      "display_name": "Python 3"
    },
    "language_info": {
      "name": "python"
    }
  },
  "cells": [
    {
      "cell_type": "markdown",
      "metadata": {
        "id": "ozD4G4_de2Zz"
      },
      "source": [
        "# La regresión ridge \n"
      ]
    },
    {
      "cell_type": "markdown",
      "metadata": {
        "id": "bUr7kH8svaku"
      },
      "source": [
        "## Qué es el overfitting\n",
        "\n",
        "Empecemos hablando de uno de los problemas más comunes en machine learning: el **riesgo de sobre-ajustar**, o en inglés, de hacer overfitting. Cuando construimos un modelo, tenemos que tener en cuenta dos factores: por un lado, queremos que las predicciones que nos de el modelo sean lo más precisas posible, es decir, que **el modelo tenga el menor error posible**. Sin embargo, por otro lado sabemos que **las observaciones de nuestro conjunto de datos seguramente tengan errores**: o bien errores de medida, o bien o estén influenciadas por algún aspecto que no tenemos en cuenta en el modelo. Encontramos estos errores por ejemplo:\n",
        "* En un conjuntos de datos con información biomédica, las máquinas usadas para tomar las mediciones introducen errores.\n",
        "* En un conjunto de datos con información sobre el precio de venta de las casas, este precio puede verse influido por variables que no aparezcan en el conjunto de datos.\n",
        "\n",
        "Así que con nuestro modelo queremos conseguir un compromiso, **queremos que sea capaz de captar la tendencia general de los datos, sin dejarse influir por los errores especificos** del conjunto con el que lo entrenamos. Con un ejemplo se entiende todo mejor,"
      ]
    },
    {
      "cell_type": "markdown",
      "metadata": {
        "id": "N1rzmk-_eqyl"
      },
      "source": [
        "![Relación lineal vs relación no lineal](http://blog.noaxacademy.com/wp-content/uploads/2021/12/ejemplo_overfitting.svg)\n"
      ]
    },
    {
      "cell_type": "markdown",
      "metadata": {
        "id": "L2zV9ALf37-d"
      },
      "source": [
        "**Figura 1 |** A la izquierda, modelo infra ajustado, en el centro, modelo sobre ajustado, a la derecha modelo bien ajustado.\n",
        "\n",
        "Imagina que tenemos el conjunto de datos que sigue la tendencia curva de la imagen superior y queremos construir un modelo para hacer predicciones. \n",
        "\n",
        "* Si nuestro modelo es muy general, estaremos en la situación de la imagen izquierda, haciendo underfitting, y no estaremos captando realmente el comportamiento de los datos.\n",
        "\n",
        "* Pero si nuestro modelo es demasiado poco general, estaremos en la situación de la imagen central, haciendo overfitting, y estaremos incluyendo en el modelo los errores de las observaciones. Es decir, un cambio en nuestro conjunto de datos producirá un cambio muy grande en el modelo.\n",
        "\n",
        "* Está claro que el mejor modelo es el de la imagen de la derecha, porque capta el comportamiento general (esa tendencia curva) sin dejarse influir por todos los errores específicos de las observaciones.\n",
        "\n",
        "Ahora bien, la varianza en un modelo nos dice cómo de variable es el modelo. Cuanta mayor es la varianza, más cambios bruscos, subidas y bajadas veremos en las predicciones del modelo. Si la varianza es muy pequeña, el modelo es muy estable y está infra ajustado. Pero si es muy grande, el modelo es demasiado variable y está sobre ajustado. Buscamos un punto medio entre las dos."
      ]
    },
    {
      "cell_type": "markdown",
      "metadata": {
        "id": "Po-TcGle9Apm"
      },
      "source": [
        "## Qué es el sesgo\n",
        "\n",
        " El sesgo mide la distancia que hay entre el valor esperado de nuestro modelo y el verdadero valor,\n",
        "\n",
        "$$\\text{sesgo}(\\hat\\beta)=\\mathbb{E}(\\hat\\beta)-\\beta$$\n",
        "\n"
      ]
    },
    {
      "cell_type": "markdown",
      "metadata": {
        "id": "LqSNW61E3zok"
      },
      "source": [
        "## El mejor estimador insesgado..\n",
        "\n",
        "Pues bien, veamos cómo se relaciona todo esto con la regresión lineal. La ecuación del modelo de regresión es,\n",
        "\n",
        "$$y = X\\beta + \\varepsilon$$\n",
        "\n",
        "Donde $y$ es el vector de la variable respuesta (la que queremos predecir), $X$ es la matrz con las variables predictoras (que usaremos para hacer las predicciones) y $\\beta$ es el vector con los parámetros del modelo de regresión (los valores de la ecuación de la recta). Recordemos que para encontrar la solución óptima del modelo de regresión resolvíamos la ecuación,\n",
        "\n",
        "$$\n",
        "J(\\beta)=\\text{min}\\left\\{\\frac{1}{n}\\sum_{i=1}^n(y_i-\\hat{y}_i)^2\\right\\}\n",
        "$$\n",
        "\n",
        "Si no recuerdas de donde viene esta fórmula no te preocupes, puedes leerlo [en el post anterior](https://blog.noaxacademy.com/el-abc-del-machine-learning-regresion-lineal-con-python/). No quiero entrar en muchos detalles técnicos, pero es importante saber que matemáticamente, la solución del modelo de regresión lineal es el **mejor estimador lineal insesgado**, es decir, es el que tiene la menor varianza de entre todos los posibles tipos de modelos lineales insesgados. Esto en principio es bueno... ¿o no?\n",
        "\n",
        "Aquí entra en juego el equilibrio entre el sesgo y la varianza, lo que en inglés se llama el **variance bias tradeoff**.\n"
      ]
    },
    {
      "cell_type": "markdown",
      "metadata": {
        "id": "cSNW6RLOTKfy"
      },
      "source": [
        "## El equilibrio entre sesgo y varianza\n",
        "\n",
        "Cuando se construye un modelo de machine learning, existe un equilibrio entre su sesgo y su varianza. \n",
        "* Si el sesgo disminuye, la varianza aumenta;\n",
        "* Si la varianza disminuye, el sesgo aumenta.\n",
        "\n",
        "Y además, también se sabe que el aumentar la complejidad del modelo, es decir, **aumentar el número de variables** aumenta la varianza (y disminuye el sesgo). "
      ]
    },
    {
      "cell_type": "markdown",
      "metadata": {
        "id": "jug93IbwV5vH"
      },
      "source": [
        "\n",
        "\n",
        "## La penalización ridge\n",
        "\n",
        "Y aquí llegamos a **la clave para entender la regresión ridge**: Hemos dicho que el modelo de regresión normal es el mejor estimador insesgado, pero ¿puede ser que consigamos mejores predicciones con un modelo que tenga un poco de sesgo, pero que a cambio reduzca mucho la varianza?\n",
        "\n",
        "La respuesta, como te puedes imaginar, es si, y eso es precisamente lo que hace la penalización ridge. Matemáticamente, los modelos ridge resuelven la ecuación,\n",
        "\n",
        "$$\n",
        "J(\\beta)=\\text{min}\\left\\{\\frac{1}{n}\\sum_{i=1}^n(y_i-\\hat{y}_i)^2+\\alpha\\sum_{j=1}^p\\beta_j^2\\right\\}\n",
        "$$\n",
        "\n",
        "Esta ecuación tiene dos partes, la primera parte es la misma que en un modelo de regresión no penalizado, y la segunda parte es la que se conoce como **penalización ridge**. La solución del modelo ridge serán aquellos valores de $\\beta$ que minimicen la función $J(\\beta)$.\n",
        "\n",
        "**¿Pero cómo funciona esta penalización?** Si los valores de $\\beta$ fuesen muy grandes, el valor de la penalización ridge sería muy grande, pero lo que queremos es buscar el valor mínimo de $J(\\beta)$. Es decir, que con esta penalización estamos \"forzando\" a que los coeficientes $\\beta$ no sean excesivamente grandes. De forma intuitiva, valores pequeños de los coeficientes harán que la varianza sea menor. \n",
        "\n",
        "## Optimización del modelo\n",
        "\n",
        "Fíjate por último en ese $\\alpha$ que aparece en la fórmula de la penalización. Eso es lo que se conoce como un hiper parámetro del modelo de regresión, y es un coeficiente que nosotros, como analistas de datos, debemos ajustar. Valores muy grandes de $\\alpha$ hacen que la importancia de la penalización sea mayor, y que los coeficientes $\\beta$ se hagan más pequeños para conseguir minimizar $J(\\beta)$, y valores muy pequeños de $\\alpha$ hacen que la penalización no tenga tanta importancia. De hecho, si $\\alpha=0$ (este es el valor más pequeño que puede tomar) estaremos resolviendo un modelo no penalizado.\n",
        "\n",
        "En la práctica, para encontrar el valor óptimo de $\\alpha$ suele considerarse una lista de valores posibles, y se resuelve el modelo con todos ellos. Por último se selecciona el $\\alpha$ que minimice el error.\n",
        "\n",
        "\n",
        "Veamos cómo resolver un modelo de regresión ridge en Python. Para ello usaremos un conjunto de datos de $442$ pacientes con diabetes. En este conjunto de datos se midieron $10$ variables, la edad, sexo, índice de masa corporal, presión sanguínea, y otras seis mediciones de serum en sangre, así como una variable adicional que mide el progreso de la enfermedad en los pacientes. Nuestro objetivo es usar las $10$ variables predictoras para construir un modelo que prediga el progreso de la enfermedad.\n",
        "\n",
        "En primer lugar cargamos las librerías de python que utilizaremos en esta sección:"
      ]
    },
    {
      "cell_type": "code",
      "metadata": {
        "id": "liCw2Pjf5nzn"
      },
      "source": [
        "import numpy as np \n",
        "from sklearn.preprocessing import StandardScaler\n",
        "from sklearn.datasets import load_diabetes\n",
        "from sklearn.linear_model import LinearRegression, Ridge\n",
        "from sklearn.model_selection import train_test_split\n",
        "from sklearn.metrics import mean_squared_error"
      ],
      "execution_count": 1,
      "outputs": []
    },
    {
      "cell_type": "markdown",
      "metadata": {
        "id": "44tyC6oze0RR"
      },
      "source": [
        "Ahora cargamos los datos usando la función `load_diabetes()`, y los escalamos para que tengan media $0$ y desviación típica $1$."
      ]
    },
    {
      "cell_type": "code",
      "metadata": {
        "id": "sWSmTE3ML0mb"
      },
      "source": [
        "diabetes = load_diabetes()\n",
        "x = diabetes.data\n",
        "y = diabetes.target\n",
        "\n",
        "# Split into train / test\n",
        "x_train, x_test, y_train, y_test = train_test_split(x, y, test_size=100, random_state=42)\n",
        "\n",
        "# Scale\n",
        "scaler = StandardScaler()\n",
        "x_train = scaler.fit_transform(x_train)\n",
        "x_test = scaler.transform(x_test)"
      ],
      "execution_count": 2,
      "outputs": []
    },
    {
      "cell_type": "markdown",
      "metadata": {
        "id": "DAf0J4Iqfoyg"
      },
      "source": [
        "Construimos en primer lugar un modelo de regresión no penalizado usando la parte de entrenamiento (train) de nuestros datos, y después evaluamos el modelo calculando su error cuadrático medio en la parte de test."
      ]
    },
    {
      "cell_type": "code",
      "metadata": {
        "id": "0qdCpghAIWkb"
      },
      "source": [
        "linear_model = LinearRegression()\n",
        "linear_model.fit(x_train, y_train)\n",
        "\n",
        "lm_prediction = linear_model.predict(x_test)\n",
        "lm_error = mean_squared_error(y_test, lm_prediction)"
      ],
      "execution_count": 3,
      "outputs": []
    },
    {
      "cell_type": "markdown",
      "metadata": {
        "id": "LWn7_6XDf1iP"
      },
      "source": [
        "Ahora vamos a construir los modelos de regresión ridge. Para eso definimos un vector de posibles valores para $\\alpha$. Lo habitual con estos parámetros es definirlos usando escala logarítmica. En este ejemplo consideramos 500 posibles valores entre $10^{-10}$ y $10^2$. Para cada posible valor de $\\alpha$, entrenamos el modelo en la parte de train, y lo testeamos en la parte de test."
      ]
    },
    {
      "cell_type": "code",
      "metadata": {
        "id": "Wyqk-ob0JReE"
      },
      "source": [
        "alpha = 10**np.linspace(-10, 2, 500)\n",
        "error_array = np.zeros(len(alpha))\n",
        "\n",
        "for idx, a in enumerate(alpha):\n",
        "  ridge_regression = Ridge(alpha=a)\n",
        "  ridge_regression.fit(x_train, y_train)\n",
        "  prediction = ridge_regression.predict(x_test)\n",
        "  error_array[idx] = mean_squared_error(y_test, prediction)"
      ],
      "execution_count": 4,
      "outputs": []
    },
    {
      "cell_type": "code",
      "metadata": {
        "colab": {
          "base_uri": "https://localhost:8080/"
        },
        "id": "SycSraI1huOb",
        "outputId": "1ae5e36f-c604-4bf2-a77c-7191fe259dfe"
      },
      "source": [
        "# Optimal alpha\n",
        "smallest_error = np.min(error_array)\n",
        "optimal_alpha = alpha[np.argmin(error_array)]\n",
        "\n",
        "print(f'El valor óptimo de alpha es: {np.round(optimal_alpha, 2)}, con el que se obtiene un error de {np.round(smallest_error, 2)}')"
      ],
      "execution_count": 5,
      "outputs": [
        {
          "output_type": "stream",
          "name": "stdout",
          "text": [
            "El valor óptimo de alpha es: 26.48, con el que se obtiene un error de 2684.2\n"
          ]
        }
      ]
    },
    {
      "cell_type": "markdown",
      "metadata": {
        "id": "0ZsVMJX0gg8G"
      },
      "source": [
        "Por último vamos a representar los errores que hemos obtenido con los distintos modelos. En el eje vertical representamos el error, y en el eje horizontal representamos el hiper parámetro $\\alpha$. La línea verde es el error que tenemos usando el modelo de regresión no penalizado, y la línea azul es el error de los modelos ridge en función del valor de $\\alpha$. Como podemos ver, usando un modelo de regresión ridge conseguimos un error de predicción menor que con un modelo no penalizado para valores de $\\alpha$ menores de 80 (aproximadamente), y el valor óptimo de $\\alpha$ con el que se obtiene el menor error es 26.48.\n",
        "\n"
      ]
    },
    {
      "cell_type": "code",
      "metadata": {
        "colab": {
          "base_uri": "https://localhost:8080/",
          "height": 303
        },
        "id": "8tXXvtgzQcSi",
        "outputId": "12e02781-44d7-4acb-8943-f0e96a4f869e"
      },
      "source": [
        "import matplotlib.pyplot as plt\n",
        "\n",
        "plt.plot(alpha, error_array)\n",
        "plt.axhline(y=lm_error, color='g', linestyle='--')"
      ],
      "execution_count": 6,
      "outputs": [
        {
          "output_type": "execute_result",
          "data": {
            "text/plain": [
              "<matplotlib.lines.Line2D at 0x7fc78c9b8b90>"
            ]
          },
          "metadata": {},
          "execution_count": 6
        },
        {
          "output_type": "display_data",
          "data": {
            "text/plain": [
              "<Figure size 432x288 with 1 Axes>"
            ],
            "image/png": "[encoded data removed]"
          },
          "metadata": {
            "needs_background": "light"
          }
        }
      ]
    }
  ]
}