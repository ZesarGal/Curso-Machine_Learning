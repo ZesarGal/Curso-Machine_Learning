{
 "cells": [
  {
   "cell_type": "markdown",
   "metadata": {
    "id": "ywUraKT7sbCy"
   },
   "source": [
    "# Implementación de PCA\n",
    "\n",
    "Recordemos que dado un vector aleatorio $X=(X_{1},\\dots, X_{n})$ con $\\Sigma_{X}$ su matriz de covarianza (que supondremos no degenerada), podemos definir la $j$-ésima componente principal de $X$ como \n",
    "$$\\xi_{j}=b_{j}\\bullet X,$$\n",
    "en dónde $b_{j}=(b_{j1},\\dots, b_{jn})$ es un vector en $\\mathbb{R}^{n}$ que se elige de acuerdo al siguiente problema de optimización:\n",
    "\n",
    "$$\\begin{align}\n",
    "\\max \\text{Var}(\\xi_{j})&=b_{j}\\bullet\\Sigma_{X}\\bullet b_{j}\\\\\n",
    "\\text{sujeta a}&\\\\\n",
    "||b_{j}||&=1 \\quad \\text{y} \\quad b_{i}\\bullet b_{j}=0 \\ \\ \\forall i>j\\geq 1.\n",
    "\\end{align}$$\n",
    "\n",
    "**Teorema.-** Sea $X=(X_{1},\\dots, X_{n})$ un vector aleatorio y sea $\\Sigma_{X}$ su matriz de covarianza. Entonces, el problema de optimización para el sistema de ecuaciones $\\{\\xi_{j}\\}_{j=1}^{p}$ tiene la siguiente solución:\n",
    "\n",
    "\n",
    "1.   Descomponemos espectralmente a la matriz $Σ_{X}$ como $Σ_{X}=Q\\Lambda Q^{-1}$, en donde $\\Lambda=\\text{diag}(\\lambda_{1},\\dots, \\lambda_{n})$ con $\\lambda_{i}\\in Spec(Σ_{X})$ y $Q$ se forma a través de las eigenparejas $(λ_{i},b_{i})$.\n",
    "2.   Ordenamos los eigenvalores de manera decreciente:\n",
    "$$λ_{1}\\geq\\lambda_{2}\\geq \\cdots \\geq λ_{n}$$\n",
    "\n"
   ]
  },
  {
   "cell_type": "markdown",
   "metadata": {
    "id": "5cDrq9wIr-VG"
   },
   "source": [
    "Aplicaremos el teorema anterior para dar una implementación del PCA usando datos sintéticos. Luego, aplicaremos nuestro resultado a la base de datos Iris de Fisher."
   ]
  },
  {
   "cell_type": "code",
   "execution_count": 1,
   "metadata": {
    "id": "O0ZTd3r2sIHJ"
   },
   "outputs": [],
   "source": [
    "# Cómo crear datos sintéticos y matrices\n",
    "\n",
    "import numpy as np\n",
    "\n",
    "X = np.random.randint(10, 50, 100)"
   ]
  },
  {
   "cell_type": "code",
   "execution_count": 2,
   "metadata": {
    "colab": {
     "base_uri": "https://localhost:8080/"
    },
    "id": "eHvSBNzXtOwC",
    "outputId": "7b561e17-98ad-4a8d-e85b-950c883f9099"
   },
   "outputs": [
    {
     "data": {
      "text/plain": [
       "28.92"
      ]
     },
     "execution_count": 2,
     "metadata": {},
     "output_type": "execute_result"
    }
   ],
   "source": [
    "# Se calcula la media del vector\n",
    "\n",
    "np.mean(X)"
   ]
  },
  {
   "cell_type": "code",
   "execution_count": 3,
   "metadata": {
    "id": "_L5-5EHGuFMP"
   },
   "outputs": [],
   "source": [
    "# Creamos una matriz a partir del arreglo anterior\n",
    "\n",
    "Y = X.reshape(20,5)"
   ]
  },
  {
   "cell_type": "code",
   "execution_count": 4,
   "metadata": {
    "colab": {
     "base_uri": "https://localhost:8080/"
    },
    "id": "mvBFdMPtuNu0",
    "outputId": "ee1c458d-1211-48b8-9e48-adbe9dc4b7c3"
   },
   "outputs": [
    {
     "data": {
      "text/plain": [
       "array([27.15, 28.5 , 32.75, 29.75, 26.45])"
      ]
     },
     "execution_count": 4,
     "metadata": {},
     "output_type": "execute_result"
    }
   ],
   "source": [
    "np.mean(Y, axis = 0) # Calcula la media por columnas y las muestra en un arreglo"
   ]
  },
  {
   "cell_type": "code",
   "execution_count": 5,
   "metadata": {
    "colab": {
     "base_uri": "https://localhost:8080/"
    },
    "id": "y_nRIcdpuVms",
    "outputId": "630def44-21dc-45c9-dfe8-c86e13c8ed23"
   },
   "outputs": [
    {
     "data": {
      "text/plain": [
       "array([35.6, 37.4, 40. , 21.8, 25.4, 28. , 22.4, 23.4, 35.6, 19.6, 36.6,\n",
       "       29.6, 25.2, 31.6, 24.4, 31.4, 25.8, 16.2, 32. , 36.4])"
      ]
     },
     "execution_count": 5,
     "metadata": {},
     "output_type": "execute_result"
    }
   ],
   "source": [
    "np.mean(Y, axis = 1) # Calcula la media por renglones y las muestra en un arreglo"
   ]
  },
  {
   "cell_type": "code",
   "execution_count": 6,
   "metadata": {
    "id": "jGDaDrrUuoX1"
   },
   "outputs": [],
   "source": [
    "# Centramos a los datos\n",
    "\n",
    "Y_media = Y - np.mean(Y, axis = 0)\n"
   ]
  },
  {
   "cell_type": "code",
   "execution_count": 7,
   "metadata": {
    "colab": {
     "base_uri": "https://localhost:8080/"
    },
    "id": "0u1wo6I-vEBR",
    "outputId": "9a7ecc68-2ce8-4bfd-daf9-82f927442215"
   },
   "outputs": [
    {
     "name": "stdout",
     "output_type": "stream",
     "text": [
      "[[167.81842105  32.18421053  48.56578947  30.51315789  44.45526316]\n",
      " [ 32.18421053 126.47368421   9.23684211   4.65789474  14.5       ]\n",
      " [ 48.56578947   9.23684211 136.72368421  34.30263158  27.75      ]\n",
      " [ 30.51315789   4.65789474  34.30263158 151.35526316 -20.35526316]\n",
      " [ 44.45526316  14.5         27.75       -20.35526316  86.68157895]]\n"
     ]
    }
   ],
   "source": [
    "# Matriz de covarianza\n",
    "\n",
    "S = np.cov(Y_media, rowvar = False)\n",
    "\n",
    "print(S)"
   ]
  },
  {
   "cell_type": "code",
   "execution_count": 8,
   "metadata": {
    "id": "yas4Wi1YvyIX"
   },
   "outputs": [],
   "source": [
    "# Vamos a calcular eigenvalores y eigenvectores\n",
    "\n",
    "eigen_val, eigen_vec = np.linalg.eigh(S)"
   ]
  },
  {
   "cell_type": "code",
   "execution_count": 9,
   "metadata": {
    "colab": {
     "base_uri": "https://localhost:8080/"
    },
    "id": "M0RSTdV3w1yK",
    "outputId": "15284418-1603-44e8-d385-a86f812d9b96"
   },
   "outputs": [
    {
     "data": {
      "text/plain": [
       "array([ 53.16683592,  94.65582206, 117.84425039, 155.86381682,\n",
       "       247.52190639])"
      ]
     },
     "execution_count": 9,
     "metadata": {},
     "output_type": "execute_result"
    }
   ],
   "source": [
    "eigen_val "
   ]
  },
  {
   "cell_type": "code",
   "execution_count": 10,
   "metadata": {
    "colab": {
     "base_uri": "https://localhost:8080/"
    },
    "id": "bUUzdhhVxzXq",
    "outputId": "fb6d70e8-3fc5-461d-9864-cd375a062b9c"
   },
   "outputs": [
    {
     "data": {
      "text/plain": [
       "array([247.52190639, 155.86381682, 117.84425039,  94.65582206,\n",
       "        53.16683592])"
      ]
     },
     "execution_count": 10,
     "metadata": {},
     "output_type": "execute_result"
    }
   ],
   "source": [
    "# Accesos\n",
    "\n",
    "eigen_val[::-1]\n"
   ]
  },
  {
   "cell_type": "code",
   "execution_count": 11,
   "metadata": {
    "colab": {
     "base_uri": "https://localhost:8080/"
    },
    "id": "twAwyeQBxB06",
    "outputId": "5ffb17e3-8d32-4949-ffaa-ec1e5c5a63cd"
   },
   "outputs": [
    {
     "data": {
      "text/plain": [
       "array([247.52190639, 155.86381682, 117.84425039,  94.65582206,\n",
       "        53.16683592])"
      ]
     },
     "execution_count": 11,
     "metadata": {},
     "output_type": "execute_result"
    }
   ],
   "source": [
    "# Reescribimos a los eigenvalores de manera decreciente\n",
    "\n",
    "eigen_val = eigen_val[np.argsort(eigen_val)[::-1]]\n",
    "\n",
    "eigen_val "
   ]
  },
  {
   "cell_type": "code",
   "execution_count": 12,
   "metadata": {
    "colab": {
     "base_uri": "https://localhost:8080/"
    },
    "id": "eaJkEtF4xhoi",
    "outputId": "c2489283-1ec4-4495-e192-36d2bbffa280"
   },
   "outputs": [
    {
     "data": {
      "text/plain": [
       "array([[-0.31407969,  0.6009013 ,  0.01745734, -0.24033731, -0.69440967],\n",
       "       [-0.02136529, -0.41610049, -0.8158429 , -0.29871894, -0.26752805],\n",
       "       [-0.24278551, -0.67326393,  0.47098048,  0.11839314, -0.50192762],\n",
       "       [ 0.35853506,  0.10854429, -0.24721892,  0.81883715, -0.35785371],\n",
       "       [ 0.84463322, -0.02668008,  0.22617648, -0.41047991, -0.25735838]])"
      ]
     },
     "execution_count": 12,
     "metadata": {},
     "output_type": "execute_result"
    }
   ],
   "source": [
    "eigen_vec = eigen_vec[:,np.argsort(eigen_val)[::-1]]\n",
    "\n",
    "eigen_vec"
   ]
  },
  {
   "cell_type": "code",
   "execution_count": 13,
   "metadata": {
    "id": "PKfSyrABKdv1"
   },
   "outputs": [],
   "source": [
    "n_components = 2 \n",
    "eigenvector_2 = eigen_vec[:,0:n_components]"
   ]
  },
  {
   "cell_type": "code",
   "execution_count": 14,
   "metadata": {
    "colab": {
     "base_uri": "https://localhost:8080/"
    },
    "id": "6gHe3ln6KrTa",
    "outputId": "582fbb3d-36d0-40b4-8038-922c2989251b"
   },
   "outputs": [
    {
     "data": {
      "text/plain": [
       "array([[ -2.19624353,  11.21755179],\n",
       "       [ -5.77608331, -10.83860491],\n",
       "       [  9.12182949,   9.43034039],\n",
       "       [ 13.51727834,   7.92345265],\n",
       "       [ -5.75616167,   1.72798375],\n",
       "       [  9.75584411,  -5.48664111],\n",
       "       [  2.90113054,  -4.18362109],\n",
       "       [  0.27980667,   4.70684356],\n",
       "       [ -6.32282198, -10.23144915],\n",
       "       [ -7.02383834,  -9.13438382],\n",
       "       [ -9.63428555,  -1.14986916],\n",
       "       [ -7.69700897,   4.27975061],\n",
       "       [ -4.35279792,  10.30772624],\n",
       "       [  3.96317403,  22.08165803],\n",
       "       [  0.86739088,   3.37158241],\n",
       "       [ 10.57063461, -12.77363257],\n",
       "       [ -2.68456116,  -6.79061873],\n",
       "       [-10.59723448,   6.93038233],\n",
       "       [  5.63232002, -14.6740149 ],\n",
       "       [  5.43162821,  -6.71443632]])"
      ]
     },
     "execution_count": 14,
     "metadata": {},
     "output_type": "execute_result"
    }
   ],
   "source": [
    "# Descomposición espectral\n",
    "\n",
    "Y_red = np.dot(eigenvector_2.transpose(),Y_media.transpose()).transpose()\n",
    "\n",
    "\n",
    "Y_red"
   ]
  },
  {
   "cell_type": "markdown",
   "metadata": {
    "id": "qoNE1cYMvYxF"
   },
   "source": [
    "## La parte de la varianza explicada\n",
    "\n",
    "**Definición.-** Llamamos a la parte de la varianza total de $X$ explicada por las primeras $k$ componentes principales $(\\xi_{1},\\dots, \\xi_{k})_{k< p}$ a la cantidad:\n",
    "$$\\frac{λ_{1}+\\cdots +λ_{k}}{\\text{Tr}(Σ_{X})}.$$\n",
    "\n",
    "Denotamos por $\\rho_{ij}=\\text{Corr}(\\xi_{i},X_{i})$. Llamaremos a $\\rho_{ij}^{2}$ la parte de la varianza de la variable $X_{i}$ explicada por la $j$-ésima componente principal $\\xi_{j}$."
   ]
  },
  {
   "cell_type": "code",
   "execution_count": 15,
   "metadata": {
    "colab": {
     "base_uri": "https://localhost:8080/"
    },
    "id": "FTqM3YAbgHB-",
    "outputId": "8768d6c9-f5f5-4615-9a79-3837ef2525e1"
   },
   "outputs": [
    {
     "name": "stdout",
     "output_type": "stream",
     "text": [
      "Varianza explicada: [37.   23.3  17.61 14.15  7.95]\n",
      "Varianza explicada acumulada: [ 37.    60.3   77.91  92.06 100.01]\n"
     ]
    }
   ],
   "source": [
    "# Información total\n",
    "\n",
    "eigen_val_total = sum(eigen_val)\n",
    "\n",
    "varianza_explicada = [(i/ eigen_val_total )*100 for i in eigen_val ]\n",
    "\n",
    "varianza_explicada = np.round(varianza_explicada, 2)\n",
    "\n",
    "varianza_explicada_acumulada = np.cumsum(varianza_explicada)\n",
    "\n",
    "print(\"Varianza explicada: {}\".format(varianza_explicada))\n",
    "\n",
    "print(\"Varianza explicada acumulada: {}\".format(varianza_explicada_acumulada))"
   ]
  },
  {
   "cell_type": "code",
   "execution_count": 16,
   "metadata": {
    "id": "zD6dKku0bNcP"
   },
   "outputs": [],
   "source": [
    "# Escribimos lo anterior como función \n",
    "def PCA(X , num_componentes):\n",
    "     \n",
    "    X_media = X - np.mean(X , axis = 0)\n",
    "     \n",
    "    cov_mat = np.cov(X_media , rowvar = False)\n",
    "     \n",
    "    eigen_val , eigen_vec = np.linalg.eigh(cov_mat)\n",
    "\n",
    "    sorted_index = np.argsort(eigen_val)[::-1]\n",
    "    sorted_eigenval = eigen_val[sorted_index]\n",
    "    sorted_eigenvec = eigen_vec[:,sorted_index]\n",
    "     \n",
    "    eigenvector_ = sorted_eigenvec[:,0:num_componentes]\n",
    "     \n",
    "    X_red = np.dot(eigenvector_.transpose() , X_media.transpose() ).transpose()\n",
    "     \n",
    "    return X_red"
   ]
  },
  {
   "cell_type": "markdown",
   "metadata": {
    "id": "wZAXS1_t8-h7"
   },
   "source": [
    "## PCA con sklearn"
   ]
  },
  {
   "cell_type": "code",
   "execution_count": 17,
   "metadata": {
    "id": "X-HMIZQgK4nq"
   },
   "outputs": [],
   "source": [
    "import pandas as pd\n",
    " \n",
    "# Datos de Iris de Fisher\n",
    "url = \"https://archive.ics.uci.edu/ml/machine-learning-databases/iris/iris.data\"\n",
    "data = pd.read_csv(url, names=['sepal length','sepal width','petal length','petal width','target'])\n",
    " \n",
    "#se preparan los datos\n",
    "x = data.iloc[:,0:4]\n",
    " \n",
    "target = data.iloc[:,4]\n",
    " \n",
    "# Aplicamos PCA a los datos elegidos\n",
    "mat_red = PCA(x , 2)\n",
    " \n",
    "# Tabla que muestra a las dos componentes principales\n",
    "principal_df = pd.DataFrame(mat_red , columns = ['PC1','PC2'])\n",
    " \n",
    "\n",
    "principal_df = pd.concat([principal_df , pd.DataFrame(target)] , axis = 1)"
   ]
  },
  {
   "cell_type": "code",
   "execution_count": 18,
   "metadata": {
    "colab": {
     "base_uri": "https://localhost:8080/",
     "height": 447
    },
    "id": "YKcFGEEGb5tw",
    "outputId": "8fc162c2-5efa-4e8b-dc04-e8b0c9eb6255"
   },
   "outputs": [
    {
     "data": {
      "text/html": [
       "<div>\n",
       "<style scoped>\n",
       "    .dataframe tbody tr th:only-of-type {\n",
       "        vertical-align: middle;\n",
       "    }\n",
       "\n",
       "    .dataframe tbody tr th {\n",
       "        vertical-align: top;\n",
       "    }\n",
       "\n",
       "    .dataframe thead th {\n",
       "        text-align: right;\n",
       "    }\n",
       "</style>\n",
       "<table border=\"1\" class=\"dataframe\">\n",
       "  <thead>\n",
       "    <tr style=\"text-align: right;\">\n",
       "      <th></th>\n",
       "      <th>PC1</th>\n",
       "      <th>PC2</th>\n",
       "      <th>target</th>\n",
       "    </tr>\n",
       "  </thead>\n",
       "  <tbody>\n",
       "    <tr>\n",
       "      <th>0</th>\n",
       "      <td>2.684207</td>\n",
       "      <td>0.326607</td>\n",
       "      <td>Iris-setosa</td>\n",
       "    </tr>\n",
       "    <tr>\n",
       "      <th>1</th>\n",
       "      <td>2.715391</td>\n",
       "      <td>-0.169557</td>\n",
       "      <td>Iris-setosa</td>\n",
       "    </tr>\n",
       "    <tr>\n",
       "      <th>2</th>\n",
       "      <td>2.889820</td>\n",
       "      <td>-0.137346</td>\n",
       "      <td>Iris-setosa</td>\n",
       "    </tr>\n",
       "    <tr>\n",
       "      <th>3</th>\n",
       "      <td>2.746437</td>\n",
       "      <td>-0.311124</td>\n",
       "      <td>Iris-setosa</td>\n",
       "    </tr>\n",
       "    <tr>\n",
       "      <th>4</th>\n",
       "      <td>2.728593</td>\n",
       "      <td>0.333925</td>\n",
       "      <td>Iris-setosa</td>\n",
       "    </tr>\n",
       "    <tr>\n",
       "      <th>...</th>\n",
       "      <td>...</td>\n",
       "      <td>...</td>\n",
       "      <td>...</td>\n",
       "    </tr>\n",
       "    <tr>\n",
       "      <th>145</th>\n",
       "      <td>-1.944017</td>\n",
       "      <td>0.187415</td>\n",
       "      <td>Iris-virginica</td>\n",
       "    </tr>\n",
       "    <tr>\n",
       "      <th>146</th>\n",
       "      <td>-1.525664</td>\n",
       "      <td>-0.375021</td>\n",
       "      <td>Iris-virginica</td>\n",
       "    </tr>\n",
       "    <tr>\n",
       "      <th>147</th>\n",
       "      <td>-1.764046</td>\n",
       "      <td>0.078519</td>\n",
       "      <td>Iris-virginica</td>\n",
       "    </tr>\n",
       "    <tr>\n",
       "      <th>148</th>\n",
       "      <td>-1.901629</td>\n",
       "      <td>0.115877</td>\n",
       "      <td>Iris-virginica</td>\n",
       "    </tr>\n",
       "    <tr>\n",
       "      <th>149</th>\n",
       "      <td>-1.389666</td>\n",
       "      <td>-0.282887</td>\n",
       "      <td>Iris-virginica</td>\n",
       "    </tr>\n",
       "  </tbody>\n",
       "</table>\n",
       "<p>150 rows × 3 columns</p>\n",
       "</div>"
      ],
      "text/plain": [
       "          PC1       PC2          target\n",
       "0    2.684207  0.326607     Iris-setosa\n",
       "1    2.715391 -0.169557     Iris-setosa\n",
       "2    2.889820 -0.137346     Iris-setosa\n",
       "3    2.746437 -0.311124     Iris-setosa\n",
       "4    2.728593  0.333925     Iris-setosa\n",
       "..        ...       ...             ...\n",
       "145 -1.944017  0.187415  Iris-virginica\n",
       "146 -1.525664 -0.375021  Iris-virginica\n",
       "147 -1.764046  0.078519  Iris-virginica\n",
       "148 -1.901629  0.115877  Iris-virginica\n",
       "149 -1.389666 -0.282887  Iris-virginica\n",
       "\n",
       "[150 rows x 3 columns]"
      ]
     },
     "execution_count": 18,
     "metadata": {},
     "output_type": "execute_result"
    }
   ],
   "source": [
    "principal_df"
   ]
  },
  {
   "cell_type": "code",
   "execution_count": 19,
   "metadata": {
    "colab": {
     "base_uri": "https://localhost:8080/",
     "height": 430
    },
    "id": "RU5iuOE_aEnu",
    "outputId": "1ca0a881-7cbf-4c45-85db-e82235fa26fc"
   },
   "outputs": [
    {
     "data": {
      "text/plain": [
       "<AxesSubplot:xlabel='PC1', ylabel='PC2'>"
      ]
     },
     "execution_count": 19,
     "metadata": {},
     "output_type": "execute_result"
    },
    {
     "data": {
      "image/png": "[encoded data removed]",
      "text/plain": [
       "<Figure size 600x600 with 1 Axes>"
      ]
     },
     "metadata": {},
     "output_type": "display_data"
    }
   ],
   "source": [
    "import seaborn as sb\n",
    "import matplotlib.pyplot as plt\n",
    " \n",
    "plt.figure(figsize = (6,6))\n",
    "sb.scatterplot(data = principal_df , x = 'PC1',y = 'PC2' , hue = 'target' , s = 60 , palette= 'icefire')\n"
   ]
  },
  {
   "cell_type": "markdown",
   "metadata": {
    "id": "dVs5LHv6uKqb"
   },
   "source": [
    "## Componentes principales en el círculo"
   ]
  },
  {
   "cell_type": "markdown",
   "metadata": {
    "id": "Izu-xU84uRcD"
   },
   "source": [
    "**Teorema.-** Sean $X_{i}$ y $X_{j}$ dos variables aleatorias enteramente explicadas por las dos primeras componentes principales, esto es\n",
    "$$\\rho_{i1}^{2}+ρ_{i2}^2 =1 \\ \\text{y} \\ \\rho_{k1}^{2}+ρ_{k2}^2 =1.$$\n",
    "Entonces, \n",
    "$$\\text{Corr}(X_{i},X_{k})=\\rho_{i1}\\rho_{k1}+\\rho_{i2}\\rho_{k2}=\\cos(\\varphi),$$\n",
    "donde $φ$ es el ángulo formado por los vectores $(\\rho_{i1},\\rho_{i2})$ y $(\\rho_{k1},\\rho_{k2})$."
   ]
  },
  {
   "cell_type": "markdown",
   "metadata": {
    "id": "h1cU5qYpyGFl"
   },
   "source": [
    "Por lo tanto, si las variables $X_{i}$ y $X_{k}$ están enteramente explicadaspor las dos primeras componentes principales, el ángulo $φ$ describe la dependencia mutua de tales variables. En efecto, si el $φ=0$, entonces $\\text{Corr}(X_{i},X_{j})=1$, esto significa que:\n",
    "$$∃ \\ a>0, \\ b\\in \\mathbb{R} \\ \\text{tales que} \\ \\ X_{j}=aX_{k}+b.$$\n",
    "\n",
    "Similarmente, si $φ=\\pi/2$, las variables $X_{i}$ y $X_{k}$ son no correlacionadas."
   ]
  },
  {
   "cell_type": "markdown",
   "metadata": {
    "id": "i3H277bhz7ON"
   },
   "source": [
    "## PCA a través de **sklearn**: gráfica scree"
   ]
  },
  {
   "cell_type": "code",
   "execution_count": 20,
   "metadata": {
    "id": "cQsq_-K-0LRI"
   },
   "outputs": [],
   "source": [
    "import matplotlib.pyplot as plt\n",
    "\n",
    "import pandas as pd\n",
    "from sklearn.preprocessing import StandardScaler \n",
    "from sklearn import datasets\n",
    "from sklearn.decomposition import PCA"
   ]
  },
  {
   "cell_type": "code",
   "execution_count": 21,
   "metadata": {
    "colab": {
     "base_uri": "https://localhost:8080/",
     "height": 228
    },
    "id": "QuBiVB6F13tE",
    "outputId": "a8bf7728-6789-4966-e397-c94886b7b4a8"
   },
   "outputs": [
    {
     "data": {
      "text/html": [
       "<div>\n",
       "<style scoped>\n",
       "    .dataframe tbody tr th:only-of-type {\n",
       "        vertical-align: middle;\n",
       "    }\n",
       "\n",
       "    .dataframe tbody tr th {\n",
       "        vertical-align: top;\n",
       "    }\n",
       "\n",
       "    .dataframe thead th {\n",
       "        text-align: right;\n",
       "    }\n",
       "</style>\n",
       "<table border=\"1\" class=\"dataframe\">\n",
       "  <thead>\n",
       "    <tr style=\"text-align: right;\">\n",
       "      <th></th>\n",
       "      <th>sepal_len</th>\n",
       "      <th>sepal_wid</th>\n",
       "      <th>petal_len</th>\n",
       "      <th>petal_wid</th>\n",
       "      <th>class</th>\n",
       "    </tr>\n",
       "  </thead>\n",
       "  <tbody>\n",
       "    <tr>\n",
       "      <th>0</th>\n",
       "      <td>5.1</td>\n",
       "      <td>3.5</td>\n",
       "      <td>1.4</td>\n",
       "      <td>0.2</td>\n",
       "      <td>Iris-setosa</td>\n",
       "    </tr>\n",
       "    <tr>\n",
       "      <th>1</th>\n",
       "      <td>4.9</td>\n",
       "      <td>3.0</td>\n",
       "      <td>1.4</td>\n",
       "      <td>0.2</td>\n",
       "      <td>Iris-setosa</td>\n",
       "    </tr>\n",
       "    <tr>\n",
       "      <th>2</th>\n",
       "      <td>4.7</td>\n",
       "      <td>3.2</td>\n",
       "      <td>1.3</td>\n",
       "      <td>0.2</td>\n",
       "      <td>Iris-setosa</td>\n",
       "    </tr>\n",
       "    <tr>\n",
       "      <th>3</th>\n",
       "      <td>4.6</td>\n",
       "      <td>3.1</td>\n",
       "      <td>1.5</td>\n",
       "      <td>0.2</td>\n",
       "      <td>Iris-setosa</td>\n",
       "    </tr>\n",
       "    <tr>\n",
       "      <th>4</th>\n",
       "      <td>5.0</td>\n",
       "      <td>3.6</td>\n",
       "      <td>1.4</td>\n",
       "      <td>0.2</td>\n",
       "      <td>Iris-setosa</td>\n",
       "    </tr>\n",
       "  </tbody>\n",
       "</table>\n",
       "</div>"
      ],
      "text/plain": [
       "   sepal_len  sepal_wid  petal_len  petal_wid        class\n",
       "0        5.1        3.5        1.4        0.2  Iris-setosa\n",
       "1        4.9        3.0        1.4        0.2  Iris-setosa\n",
       "2        4.7        3.2        1.3        0.2  Iris-setosa\n",
       "3        4.6        3.1        1.5        0.2  Iris-setosa\n",
       "4        5.0        3.6        1.4        0.2  Iris-setosa"
      ]
     },
     "execution_count": 21,
     "metadata": {},
     "output_type": "execute_result"
    }
   ],
   "source": [
    "import pandas as pd\n",
    "\n",
    "df = pd.read_csv(\n",
    "    filepath_or_buffer='https://archive.ics.uci.edu/ml/machine-learning-databases/iris/iris.data',\n",
    "    header=None,\n",
    "    sep=',')\n",
    "\n",
    "df.columns=['sepal_len', 'sepal_wid', 'petal_len', 'petal_wid', 'class']\n",
    "df.dropna(how=\"all\", inplace=True) \n",
    "df.to_csv(\"iris_download.csv\", index = False)\n",
    "df.head()"
   ]
  },
  {
   "cell_type": "code",
   "execution_count": 22,
   "metadata": {
    "id": "P7Tm5zIQ0q3S"
   },
   "outputs": [],
   "source": [
    "X = df.loc[:, 'sepal_len':'petal_wid'].values\n",
    "y = df.loc[:, 'class'].values\n",
    "\n",
    "pca = PCA() \n",
    "X_r = pca.fit(X).transform(X)"
   ]
  },
  {
   "cell_type": "code",
   "execution_count": 23,
   "metadata": {
    "colab": {
     "base_uri": "https://localhost:8080/"
    },
    "id": "Pn51pM1y2FAb",
    "outputId": "deec23bb-3385-4c02-e1f7-2903123903f7"
   },
   "outputs": [
    {
     "data": {
      "text/plain": [
       "array(['Iris-setosa', 'Iris-versicolor', 'Iris-virginica'], dtype=object)"
      ]
     },
     "execution_count": 23,
     "metadata": {},
     "output_type": "execute_result"
    }
   ],
   "source": [
    "target_names = df.iloc[:,4].unique()\n",
    "target_names"
   ]
  },
  {
   "cell_type": "code",
   "execution_count": 35,
   "metadata": {
    "colab": {
     "base_uri": "https://localhost:8080/",
     "height": 316
    },
    "id": "xAp2P9PR2gFA",
    "outputId": "f7da925f-14fd-452b-88b7-984140e56add"
   },
   "outputs": [
    {
     "data": {
      "image/png": "[encoded data removed]",
      "text/plain": [
       "<Figure size 640x480 with 1 Axes>"
      ]
     },
     "metadata": {},
     "output_type": "display_data"
    }
   ],
   "source": [
    "def pca_scatter(pca1, pca2):\n",
    "    plt.close\n",
    "    plt.figure()\n",
    "    colors = ['red', 'cyan', 'blue']\n",
    "    lw = 2\n",
    "\n",
    "\n",
    "    for color, target_name in zip(colors, target_names):\n",
    "        plt.scatter(X_r[y == target_name, pca1], X_r[y == target_name, pca2], color=color, alpha=.6, lw=lw,\n",
    "                    label=target_name)\n",
    "    plt.legend(loc='best', shadow=False, scatterpoints=1)\n",
    "    plt.title('PCA de IRIS : Componentes {} y {}'.format(pca1+1, pca2+1))\n",
    "    plt.xlabel('Component {}'.format(pca1+1))\n",
    "    plt.ylabel('Component {}'.format(pca2+1))\n",
    "    plt.show()\n",
    "\n",
    "pca_scatter(0, 1)"
   ]
  },
  {
   "cell_type": "code",
   "execution_count": 25,
   "metadata": {
    "colab": {
     "base_uri": "https://localhost:8080/"
    },
    "id": "xc6_N2eF2phR",
    "outputId": "502ee9d9-4733-4710-f09d-1d8667076c1f"
   },
   "outputs": [
    {
     "name": "stdout",
     "output_type": "stream",
     "text": [
      "\n",
      "Eigenvalores \n",
      "[4.22484077 0.24224357 0.07852391 0.02368303]\n",
      "Eigenvectores \n",
      "[[ 0.36158968 -0.08226889  0.85657211  0.35884393]\n",
      " [ 0.65653988  0.72971237 -0.1757674  -0.07470647]\n",
      " [-0.58099728  0.59641809  0.07252408  0.54906091]\n",
      " [ 0.31725455 -0.32409435 -0.47971899  0.75112056]]\n"
     ]
    }
   ],
   "source": [
    "X_r = pca.fit(X).transform(X)\n",
    "print('\\nEigenvalores \\n%s' %pca.explained_variance_)\n",
    "print('Eigenvectores \\n%s' %pca.components_)"
   ]
  },
  {
   "cell_type": "code",
   "execution_count": 26,
   "metadata": {
    "colab": {
     "base_uri": "https://localhost:8080/",
     "height": 316
    },
    "id": "r2B7wQ7h08RR",
    "outputId": "ea00737c-d47a-47f0-b592-b9a6e526f22b"
   },
   "outputs": [
    {
     "data": {
      "image/png": "[encoded data removed]",
      "text/plain": [
       "<Figure size 640x480 with 1 Axes>"
      ]
     },
     "metadata": {},
     "output_type": "display_data"
    }
   ],
   "source": [
    "def scree_plot():\n",
    "    from matplotlib.pyplot import figure, show\n",
    "    from matplotlib.ticker import MaxNLocator\n",
    "\n",
    "    ax = figure().gca()\n",
    "    ax.plot(pca.explained_variance_)\n",
    "    ax.xaxis.set_major_locator(MaxNLocator(integer=True))\n",
    "    plt.xlabel('Principal Component')\n",
    "    plt.ylabel('Eigenvalue')\n",
    "    plt.axhline(y=1, linewidth=1, color='r', alpha=0.5)\n",
    "    plt.title('Scree Plot of PCA: Component Eigenvalues')\n",
    "    show()\n",
    "\n",
    "scree_plot()"
   ]
  },
  {
   "cell_type": "code",
   "execution_count": 27,
   "metadata": {
    "colab": {
     "base_uri": "https://localhost:8080/",
     "height": 316
    },
    "id": "qabQ_djZ24vM",
    "outputId": "e9457632-5fd1-4c90-b35a-fb00603d7bae"
   },
   "outputs": [
    {
     "data": {
      "image/png": "[encoded data removed]",
      "text/plain": [
       "<Figure size 640x480 with 1 Axes>"
      ]
     },
     "metadata": {},
     "output_type": "display_data"
    }
   ],
   "source": [
    "def var_explicada():\n",
    "    import numpy as np\n",
    "    from matplotlib.pyplot import figure, show\n",
    "    from matplotlib.ticker import MaxNLocator\n",
    "\n",
    "    ax = figure().gca()\n",
    "    ax.plot(np.cumsum(pca.explained_variance_ratio_))\n",
    "    ax.xaxis.set_major_locator(MaxNLocator(integer=True))\n",
    "    plt.xlabel('Nuúmero de componentes')\n",
    "    plt.ylabel('Varianza explicada acumulativa')\n",
    "    plt.axvline(x=1, linewidth=1, color='r', alpha=0.5)\n",
    "    plt.title('Varianza explicada del PCA por componente')\n",
    "    show()\n",
    "\n",
    "var_explicada()"
   ]
  },
  {
   "cell_type": "markdown",
   "metadata": {
    "id": "_MsnU-LFjIUy"
   },
   "source": [
    "### Ejercicio. \n",
    "Considera los siguientes puntos en $\\mathbb{R}^{2}$:\n",
    "\t$$(4,11), \\ (8,4), \\ (13,5), \\ (7,14).$$\n",
    "Calcula las dos componentes principales y muestra que no están correlacionadas."
   ]
  },
  {
   "cell_type": "code",
   "execution_count": 28,
   "metadata": {
    "id": "DlZU6eitk-hj"
   },
   "outputs": [],
   "source": [
    "import numpy as np "
   ]
  },
  {
   "cell_type": "code",
   "execution_count": 29,
   "metadata": {
    "id": "y-xLsK17jH2S"
   },
   "outputs": [],
   "source": [
    "X1 = [4, 8, 13, 7]\n",
    "X2 = [11, 4, 5, 14]"
   ]
  },
  {
   "cell_type": "code",
   "execution_count": 30,
   "metadata": {
    "id": "52q-vyoWj4QE"
   },
   "outputs": [],
   "source": [
    "barX1 = sum(X1) / len(X1)\n",
    "barX2 = sum(X2) / len(X2)\n",
    "\n",
    "covX1X2 = sum((a - barX1) * (b - barX2) for (a,b) in zip(X1,X2)) / (len(X1)-1) "
   ]
  },
  {
   "cell_type": "code",
   "execution_count": 31,
   "metadata": {
    "colab": {
     "base_uri": "https://localhost:8080/"
    },
    "id": "_B2iGe7UkbeA",
    "outputId": "09d55c7b-9d72-490a-a2ad-959c3d437117"
   },
   "outputs": [
    {
     "name": "stdout",
     "output_type": "stream",
     "text": [
      "14.0\n",
      "23.0\n"
     ]
    }
   ],
   "source": [
    "varX1 = np.var(X1, ddof = 1)\n",
    "varX2 = np.var(X2, ddof = 1)\n",
    "\n",
    "print(varX1)\n",
    "print(varX2) "
   ]
  },
  {
   "cell_type": "code",
   "execution_count": 32,
   "metadata": {
    "colab": {
     "base_uri": "https://localhost:8080/"
    },
    "id": "Za-lvid1lHd7",
    "outputId": "c96eb284-4675-4630-e2bb-96aedd4fe6f5"
   },
   "outputs": [
    {
     "name": "stdout",
     "output_type": "stream",
     "text": [
      "[[ 14. -11.]\n",
      " [-11.  23.]]\n"
     ]
    }
   ],
   "source": [
    "# La matriz de covarianza\n",
    "\n",
    "S = np.cov(np.array(X1), np.array(X2))\n",
    "\n",
    "print(S)"
   ]
  },
  {
   "cell_type": "code",
   "execution_count": 33,
   "metadata": {
    "colab": {
     "base_uri": "https://localhost:8080/"
    },
    "id": "Sy0a1xemlmPS",
    "outputId": "705fff3d-0b05-4d07-f796-5539252e97b0"
   },
   "outputs": [
    {
     "name": "stdout",
     "output_type": "stream",
     "text": [
      "[ 6.61513568 30.38486432]\n",
      "[[-0.83025082 -0.55738997]\n",
      " [-0.55738997  0.83025082]]\n"
     ]
    }
   ],
   "source": [
    "eigen_val, eigen_vec = np.linalg.eigh(S) \n",
    "\n",
    "print(eigen_val)\n",
    "print(eigen_vec)  "
   ]
  },
  {
   "cell_type": "markdown",
   "metadata": {
    "id": "Gk9vrkM3mlGI"
   },
   "source": [
    "Por lo tanto, la primera componente principal es:\n",
    "$$\\eta_{1}=-0.5573X_{11}+0.8303X_{12}.$$"
   ]
  },
  {
   "cell_type": "code",
   "execution_count": null,
   "metadata": {
    "id": "zYdET2QTmF2I"
   },
   "outputs": [],
   "source": []
  }
 ],
 "metadata": {
  "colab": {
   "provenance": []
  },
  "kernelspec": {
   "display_name": "Python 3 (ipykernel)",
   "language": "python",
   "name": "python3"
  },
  "language_info": {
   "codemirror_mode": {
    "name": "ipython",
    "version": 3
   },
   "file_extension": ".py",
   "mimetype": "text/x-python",
   "name": "python",
   "nbconvert_exporter": "python",
   "pygments_lexer": "ipython3",
   "version": "3.9.13"
  }
 },
 "nbformat": 4,
 "nbformat_minor": 1
}
